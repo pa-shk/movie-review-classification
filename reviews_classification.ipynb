{
  "cells": [
    {
      "cell_type": "markdown",
      "metadata": {
        "id": "view-in-github",
        "colab_type": "text"
      },
      "source": [
        "<a href=\"https://colab.research.google.com/github/pa-shk/movie-review-classification/blob/master/reviews_classification.ipynb\" target=\"_parent\"><img src=\"https://colab.research.google.com/assets/colab-badge.svg\" alt=\"Open In Colab\"/></a>"
      ]
    },
    {
      "cell_type": "markdown",
      "metadata": {
        "id": "iXbadSEs9ywj"
      },
      "source": [
        "# Set up the environment"
      ]
    },
    {
      "cell_type": "code",
      "execution_count": 2,
      "metadata": {
        "id": "IDI_aBOcghmx"
      },
      "outputs": [],
      "source": [
        "import glob\n",
        "import re\n",
        "\n",
        "import numpy as np\n",
        "import pandas as pd\n",
        "\n",
        "from sklearn.metrics import accuracy_score, f1_score, precision_score, recall_score\n",
        "from sklearn.model_selection import train_test_split"
      ]
    },
    {
      "cell_type": "code",
      "source": [
        "SEED = 42"
      ],
      "metadata": {
        "id": "3SLxIIJW8q-g"
      },
      "execution_count": 3,
      "outputs": []
    },
    {
      "cell_type": "markdown",
      "metadata": {
        "id": "-FcOmd_197Av"
      },
      "source": [
        "# Dataset preparation"
      ]
    },
    {
      "cell_type": "code",
      "execution_count": 4,
      "metadata": {
        "colab": {
          "base_uri": "https://localhost:8080/"
        },
        "id": "aHovKFWsSPeY",
        "outputId": "0d909e22-5145-478d-b051-1538e34af18e"
      },
      "outputs": [
        {
          "output_type": "stream",
          "name": "stdout",
          "text": [
            "--2023-07-08 15:30:02--  https://ai.stanford.edu/~amaas/data/sentiment/aclImdb_v1.tar.gz\n",
            "Resolving ai.stanford.edu (ai.stanford.edu)... 171.64.68.10\n",
            "Connecting to ai.stanford.edu (ai.stanford.edu)|171.64.68.10|:443... connected.\n",
            "HTTP request sent, awaiting response... 200 OK\n",
            "Length: 84125825 (80M) [application/x-gzip]\n",
            "Saving to: ‘aclImdb_v1.tar.gz’\n",
            "\n",
            "aclImdb_v1.tar.gz   100%[===================>]  80.23M  21.3MB/s    in 6.2s    \n",
            "\n",
            "2023-07-08 15:30:08 (12.8 MB/s) - ‘aclImdb_v1.tar.gz’ saved [84125825/84125825]\n",
            "\n"
          ]
        }
      ],
      "source": [
        "!wget https://ai.stanford.edu/~amaas/data/sentiment/aclImdb_v1.tar.gz\n",
        "!tar -xf aclImdb_v1.tar.gz"
      ]
    },
    {
      "cell_type": "code",
      "execution_count": 5,
      "metadata": {
        "id": "4bWSzqFr3WhU"
      },
      "outputs": [],
      "source": [
        "train_files = [*glob.glob(\"**/aclImdb/train/neg/*.txt\", recursive=True),\n",
        "               *glob.glob(\"**/aclImdb/train/pos/*.txt\", recursive=True)]\n",
        "\n",
        "train_rating = [int(re.findall(\"\\d+\", i)[-1]) for i in train_files]\n",
        "train_sentiment = [int(i < 5) for i in train_rating]\n",
        "\n",
        "test_files = [*glob.glob(\"**/aclImdb/test/neg/*.txt\", recursive=True),\n",
        "              *glob.glob(\"**/aclImdb/test/pos/*.txt\", recursive=True)]\n",
        "\n",
        "test_rating = [int(re.findall(\"\\d+\", i)[-1]) for i in test_files]\n",
        "test_sentiment = [int(i < 5) for i in test_rating]"
      ]
    },
    {
      "cell_type": "code",
      "execution_count": 6,
      "metadata": {
        "id": "BcaHUd6jogGk",
        "colab": {
          "base_uri": "https://localhost:8080/"
        },
        "outputId": "b50e0c36-02f2-47ff-f4af-af3b7bf21224"
      },
      "outputs": [
        {
          "output_type": "execute_result",
          "data": {
            "text/plain": [
              "25000"
            ]
          },
          "metadata": {},
          "execution_count": 6
        }
      ],
      "source": [
        "len(train_files)"
      ]
    },
    {
      "cell_type": "code",
      "source": [
        "train_files[0]"
      ],
      "metadata": {
        "colab": {
          "base_uri": "https://localhost:8080/",
          "height": 35
        },
        "id": "RS0z3LWfKgu9",
        "outputId": "b7f1557d-996d-42ad-8b5d-d8f1ee698d57"
      },
      "execution_count": 7,
      "outputs": [
        {
          "output_type": "execute_result",
          "data": {
            "text/plain": [
              "'aclImdb/train/neg/6715_4.txt'"
            ],
            "application/vnd.google.colaboratory.intrinsic+json": {
              "type": "string"
            }
          },
          "metadata": {},
          "execution_count": 7
        }
      ]
    },
    {
      "cell_type": "code",
      "source": [
        "def read_files(file_paths):\n",
        "  for path in file_paths:\n",
        "    with open(path) as f:\n",
        "      yield f.read()"
      ],
      "metadata": {
        "id": "SAtRSNe3LTV3"
      },
      "execution_count": 8,
      "outputs": []
    },
    {
      "cell_type": "code",
      "source": [
        "train_df = pd.DataFrame({\"text\": read_files(train_files),\n",
        "                         \"rating\": train_rating,\n",
        "                         \"sentiment\": train_sentiment})\n",
        "\n",
        "test_df = pd.DataFrame({\"text\": read_files(test_files),\n",
        "                        \"rating\": test_rating,\n",
        "                        \"sentiment\": test_sentiment})"
      ],
      "metadata": {
        "id": "ZFcgVAi9KnXF"
      },
      "execution_count": 9,
      "outputs": []
    },
    {
      "cell_type": "markdown",
      "source": [
        "# EDA"
      ],
      "metadata": {
        "id": "oQ3hix60g3nI"
      }
    },
    {
      "cell_type": "code",
      "source": [
        "import seaborn as sns\n",
        "sns.set_theme()\n",
        "import matplotlib.pyplot as plt"
      ],
      "metadata": {
        "id": "wPfabsXG0jp2"
      },
      "execution_count": null,
      "outputs": []
    },
    {
      "cell_type": "code",
      "source": [
        "train_df[\"sentiment\"].value_counts()"
      ],
      "metadata": {
        "id": "ez49s1iCgwoA",
        "colab": {
          "base_uri": "https://localhost:8080/"
        },
        "outputId": "27fb25a0-71d3-487d-cae1-2dba6f8bf57f"
      },
      "execution_count": null,
      "outputs": [
        {
          "output_type": "execute_result",
          "data": {
            "text/plain": [
              "1    12500\n",
              "0    12500\n",
              "Name: sentiment, dtype: int64"
            ]
          },
          "metadata": {},
          "execution_count": 10
        }
      ]
    },
    {
      "cell_type": "markdown",
      "source": [
        "As it was said in the description, the number of samples per negative and positive classes is equal, therefore accuracy can be used as evaluation metric"
      ],
      "metadata": {
        "id": "84Joh_MTtZqY"
      }
    },
    {
      "cell_type": "code",
      "source": [
        "fig, axs = plt.subplots(1, 2, figsize=(14, 5))\n",
        "\n",
        "\n",
        "counts = train_df[\"rating\"].value_counts()\n",
        "\n",
        "\n",
        "labels = sorted(counts.keys())\n",
        "\n",
        "\n",
        "\n",
        "axs[0].pie([counts[i] for i in labels],\n",
        "           labels=labels,\n",
        "           autopct=\"%.2f%%\",\n",
        "           radius=1.2,\n",
        "           counterclock=False,\n",
        "           startangle=90)\n",
        "\n",
        "axs[0].set_title(\"train_df\")\n",
        "\n",
        "\n",
        "\n",
        "counts = test_df[\"rating\"].value_counts()\n",
        "\n",
        "axs[1].pie([counts[i] for i in labels],\n",
        "           labels=labels,\n",
        "           autopct=\"%.2f%%\",\n",
        "           radius=1.2,\n",
        "           counterclock=False,\n",
        "           startangle=90)\n",
        "\n",
        "axs[1].set_title(\"test_df\")\n",
        "\n",
        "\n",
        "\n",
        "plt.tight_layout()\n",
        "plt.show()"
      ],
      "metadata": {
        "colab": {
          "base_uri": "https://localhost:8080/",
          "height": 414
        },
        "id": "4q2WI34t2kpS",
        "outputId": "0d3570b4-f4af-4243-b965-b03bf774e5c2"
      },
      "execution_count": null,
      "outputs": [
        {
          "output_type": "display_data",
          "data": {
            "text/plain": [
              "<Figure size 1400x500 with 2 Axes>"
            ],
            "image/png": "[encoded data removed]"
          },
          "metadata": {}
        }
      ]
    },
    {
      "cell_type": "markdown",
      "source": [
        "Number of samples per each rating label is slightly different. The most popular rating is either 1 or 10, while more moderate reviews have less samples per each label. Distribution of samples per each label is almost the same in train and test data"
      ],
      "metadata": {
        "id": "0wUoAGbptuQz"
      }
    },
    {
      "cell_type": "code",
      "source": [
        "fig, axs = plt.subplots(1, 2, figsize=(14, 5))\n",
        "\n",
        "axs[0].hist(train_df[\"text\"].map(len), bins=30)\n",
        "axs[0].set_xlabel(\"length in characters\")\n",
        "axs[0].set_ylabel(\"number of tokens\")\n",
        "\n",
        "axs[1].hist(train_df[\"text\"].map(lambda x: len(x.split())), bins=30)\n",
        "axs[1].set_xlabel(\"length in words\")\n",
        "axs[1].set_ylabel(\"number of tokens\")\n",
        "\n",
        "\n",
        "plt.show()"
      ],
      "metadata": {
        "colab": {
          "base_uri": "https://localhost:8080/",
          "height": 378
        },
        "id": "X846SBG-vNXw",
        "outputId": "8941a8bb-c964-4c7e-89d9-f9ec770862e2"
      },
      "execution_count": null,
      "outputs": [
        {
          "output_type": "display_data",
          "data": {
            "text/plain": [
              "<Figure size 1400x500 with 2 Axes>"
            ],
            "image/png": "[encoded data removed]"
          },
          "metadata": {}
        }
      ]
    },
    {
      "cell_type": "code",
      "source": [
        "train_df[\"text\"].map(lambda x: len(x.split())).describe()"
      ],
      "metadata": {
        "colab": {
          "base_uri": "https://localhost:8080/"
        },
        "id": "u0CIUc09yMbo",
        "outputId": "a4fc661e-b3e5-42af-df00-3a8301770dcf"
      },
      "execution_count": null,
      "outputs": [
        {
          "output_type": "execute_result",
          "data": {
            "text/plain": [
              "count    25000.000000\n",
              "mean       233.787200\n",
              "std        173.733032\n",
              "min         10.000000\n",
              "25%        127.000000\n",
              "50%        174.000000\n",
              "75%        284.000000\n",
              "max       2470.000000\n",
              "Name: text, dtype: float64"
            ]
          },
          "metadata": {},
          "execution_count": 13
        }
      ]
    },
    {
      "cell_type": "code",
      "source": [
        "test_df[\"text\"].map(lambda x: len(x.split())).describe()"
      ],
      "metadata": {
        "colab": {
          "base_uri": "https://localhost:8080/"
        },
        "id": "puM41XYj4hOA",
        "outputId": "66a6fdc1-0738-42fa-d655-748958261e83"
      },
      "execution_count": null,
      "outputs": [
        {
          "output_type": "execute_result",
          "data": {
            "text/plain": [
              "count    25000.000000\n",
              "mean       228.526680\n",
              "std        168.883693\n",
              "min          4.000000\n",
              "25%        126.000000\n",
              "50%        172.000000\n",
              "75%        277.000000\n",
              "max       2278.000000\n",
              "Name: text, dtype: float64"
            ]
          },
          "metadata": {},
          "execution_count": 14
        }
      ]
    },
    {
      "cell_type": "markdown",
      "source": [
        "The majority of reviews have the length around 200 words, while some of them are longer then 2000 words, all reviews in the training data contain at least 10 words, but there is a review from test data with only 4 words. The length in characters corresponds to the length in words"
      ],
      "metadata": {
        "id": "4IOzQNu9xzK9"
      }
    },
    {
      "cell_type": "markdown",
      "source": [
        "# Classical ML"
      ],
      "metadata": {
        "id": "C-Te4jH3oTVX"
      }
    },
    {
      "cell_type": "code",
      "source": [
        "from sklearn.feature_extraction.text import CountVectorizer, TfidfVectorizer, HashingVectorizer\n",
        "from sklearn.linear_model import LogisticRegression\n",
        "from sklearn.pipeline import Pipeline\n",
        "from sklearn.model_selection import RandomizedSearchCV"
      ],
      "metadata": {
        "id": "bekbqn0joPTe"
      },
      "execution_count": 10,
      "outputs": []
    },
    {
      "cell_type": "markdown",
      "metadata": {
        "id": "Tswc3MoRmPVw"
      },
      "source": [
        "## Countvectorizer + LogReg"
      ]
    },
    {
      "cell_type": "markdown",
      "source": [
        "### Rating"
      ],
      "metadata": {
        "id": "cSc7dRhRTKTf"
      }
    },
    {
      "cell_type": "code",
      "execution_count": null,
      "metadata": {
        "id": "CM5HMSjpuJYF"
      },
      "outputs": [],
      "source": [
        "vectorizer = CountVectorizer().fit(train_df[\"text\"])\n",
        "\n",
        "train_encoded = vectorizer.transform(train_df[\"text\"])\n",
        "test_encoded =  vectorizer.transform(test_df[\"text\"])"
      ]
    },
    {
      "cell_type": "code",
      "execution_count": null,
      "metadata": {
        "colab": {
          "base_uri": "https://localhost:8080/"
        },
        "id": "AyHf0uH6vFXC",
        "outputId": "d84f5ae4-0683-4e41-c7d3-63bfe13a5eed"
      },
      "outputs": [
        {
          "output_type": "stream",
          "name": "stderr",
          "text": [
            "/usr/local/lib/python3.10/dist-packages/sklearn/linear_model/_logistic.py:458: ConvergenceWarning: lbfgs failed to converge (status=1):\n",
            "STOP: TOTAL NO. of ITERATIONS REACHED LIMIT.\n",
            "\n",
            "Increase the number of iterations (max_iter) or scale the data as shown in:\n",
            "    https://scikit-learn.org/stable/modules/preprocessing.html\n",
            "Please also refer to the documentation for alternative solver options:\n",
            "    https://scikit-learn.org/stable/modules/linear_model.html#logistic-regression\n",
            "  n_iter_i = _check_optimize_result(\n"
          ]
        }
      ],
      "source": [
        "log_reg = LogisticRegression().fit(train_encoded, train_df[\"rating\"])"
      ]
    },
    {
      "cell_type": "code",
      "execution_count": null,
      "metadata": {
        "colab": {
          "base_uri": "https://localhost:8080/"
        },
        "id": "uRHYMJCayAcr",
        "outputId": "7c44850c-d831-478d-da62-70f830be872e"
      },
      "outputs": [
        {
          "output_type": "execute_result",
          "data": {
            "text/plain": [
              "0.399"
            ]
          },
          "metadata": {},
          "execution_count": 43
        }
      ],
      "source": [
        "y_pred = log_reg.predict(test_encoded)\n",
        "\n",
        "accuracy_score(y_pred, test_df[\"rating\"])"
      ]
    },
    {
      "cell_type": "markdown",
      "source": [
        "### Sentiment"
      ],
      "metadata": {
        "id": "0CWyMllVTSSZ"
      }
    },
    {
      "cell_type": "code",
      "source": [
        "accuracy_score(np.where(y_pred < 5, 1, 0), np.array(test_df[\"sentiment\"]))"
      ],
      "metadata": {
        "colab": {
          "base_uri": "https://localhost:8080/"
        },
        "id": "RtL2dKjlPQda",
        "outputId": "11d8c6a9-e8af-4379-9857-0984185d4058"
      },
      "execution_count": null,
      "outputs": [
        {
          "output_type": "execute_result",
          "data": {
            "text/plain": [
              "0.85612"
            ]
          },
          "metadata": {},
          "execution_count": 20
        }
      ]
    },
    {
      "cell_type": "code",
      "execution_count": null,
      "metadata": {
        "colab": {
          "base_uri": "https://localhost:8080/"
        },
        "id": "5k4pbcZ9PL6p",
        "outputId": "b7936e47-cb2f-44e6-d68a-d125314ba34b"
      },
      "outputs": [
        {
          "output_type": "stream",
          "name": "stderr",
          "text": [
            "/usr/local/lib/python3.10/dist-packages/sklearn/linear_model/_logistic.py:458: ConvergenceWarning: lbfgs failed to converge (status=1):\n",
            "STOP: TOTAL NO. of ITERATIONS REACHED LIMIT.\n",
            "\n",
            "Increase the number of iterations (max_iter) or scale the data as shown in:\n",
            "    https://scikit-learn.org/stable/modules/preprocessing.html\n",
            "Please also refer to the documentation for alternative solver options:\n",
            "    https://scikit-learn.org/stable/modules/linear_model.html#logistic-regression\n",
            "  n_iter_i = _check_optimize_result(\n"
          ]
        }
      ],
      "source": [
        "log_reg = LogisticRegression().fit(train_encoded, train_df[\"sentiment\"])"
      ]
    },
    {
      "cell_type": "code",
      "execution_count": null,
      "metadata": {
        "colab": {
          "base_uri": "https://localhost:8080/"
        },
        "outputId": "8c92da09-b4b6-48bd-80b7-c722317541c4",
        "id": "K1fM1x7iPL6q"
      },
      "outputs": [
        {
          "output_type": "execute_result",
          "data": {
            "text/plain": [
              "0.86336"
            ]
          },
          "metadata": {},
          "execution_count": 45
        }
      ],
      "source": [
        "y_pred = log_reg.predict(test_encoded)\n",
        "\n",
        "accuracy_score(y_pred, test_df[\"sentiment\"])"
      ]
    },
    {
      "cell_type": "markdown",
      "source": [
        "Training separate binary classifier for sentiment analysis increases accuracy"
      ],
      "metadata": {
        "id": "AxHNoB4wBxJM"
      }
    },
    {
      "cell_type": "markdown",
      "metadata": {
        "id": "hlOM1gJJRjsE"
      },
      "source": [
        "## TfidfVectorizer + LogReg"
      ]
    },
    {
      "cell_type": "markdown",
      "source": [
        "### Rating"
      ],
      "metadata": {
        "id": "dzjGdU-eXTOq"
      }
    },
    {
      "cell_type": "code",
      "execution_count": null,
      "metadata": {
        "id": "URvT10o4RjsO"
      },
      "outputs": [],
      "source": [
        "tf_idf = TfidfVectorizer().fit(train_df[\"text\"])\n",
        "\n",
        "train_encoded = tf_idf.transform(train_df[\"text\"])\n",
        "test_encoded =  tf_idf.transform(test_df[\"text\"])"
      ]
    },
    {
      "cell_type": "code",
      "execution_count": null,
      "metadata": {
        "id": "nhrQFrL7RjsO",
        "colab": {
          "base_uri": "https://localhost:8080/"
        },
        "outputId": "f4c26dd8-25b5-46a3-f6ca-db85ae214028"
      },
      "outputs": [
        {
          "output_type": "stream",
          "name": "stderr",
          "text": [
            "/usr/local/lib/python3.10/dist-packages/sklearn/linear_model/_logistic.py:458: ConvergenceWarning: lbfgs failed to converge (status=1):\n",
            "STOP: TOTAL NO. of ITERATIONS REACHED LIMIT.\n",
            "\n",
            "Increase the number of iterations (max_iter) or scale the data as shown in:\n",
            "    https://scikit-learn.org/stable/modules/preprocessing.html\n",
            "Please also refer to the documentation for alternative solver options:\n",
            "    https://scikit-learn.org/stable/modules/linear_model.html#logistic-regression\n",
            "  n_iter_i = _check_optimize_result(\n"
          ]
        }
      ],
      "source": [
        "log_reg = LogisticRegression().fit(train_encoded, train_df[\"rating\"])"
      ]
    },
    {
      "cell_type": "code",
      "execution_count": null,
      "metadata": {
        "colab": {
          "base_uri": "https://localhost:8080/"
        },
        "outputId": "9acf8b7d-7c39-4fd5-96f3-360ecaecd864",
        "id": "OOEOoQzHRjsP"
      },
      "outputs": [
        {
          "output_type": "execute_result",
          "data": {
            "text/plain": [
              "0.428"
            ]
          },
          "metadata": {},
          "execution_count": 23
        }
      ],
      "source": [
        "y_pred = log_reg.predict(test_encoded)\n",
        "\n",
        "accuracy_score(y_pred, test_df[\"rating\"])"
      ]
    },
    {
      "cell_type": "markdown",
      "source": [
        "### Sentiment"
      ],
      "metadata": {
        "id": "ZmEUm0jHXZL0"
      }
    },
    {
      "cell_type": "code",
      "source": [
        "accuracy_score(np.where(y_pred < 5, 1, 0), np.array(test_df[\"sentiment\"]))"
      ],
      "metadata": {
        "colab": {
          "base_uri": "https://localhost:8080/"
        },
        "outputId": "0733ece0-7b55-46f8-9e41-7d7dc4dc079b",
        "id": "7rNedd98RjsP"
      },
      "execution_count": null,
      "outputs": [
        {
          "output_type": "execute_result",
          "data": {
            "text/plain": [
              "0.87356"
            ]
          },
          "metadata": {},
          "execution_count": 24
        }
      ]
    },
    {
      "cell_type": "code",
      "execution_count": null,
      "metadata": {
        "id": "-nOaKQtaRjsP"
      },
      "outputs": [],
      "source": [
        "log_reg = LogisticRegression().fit(train_encoded, train_df[\"sentiment\"])"
      ]
    },
    {
      "cell_type": "code",
      "execution_count": null,
      "metadata": {
        "colab": {
          "base_uri": "https://localhost:8080/"
        },
        "outputId": "971ded28-3ae8-49df-8636-f20c4b5fa817",
        "id": "gbKgC7GXRjsP"
      },
      "outputs": [
        {
          "output_type": "execute_result",
          "data": {
            "text/plain": [
              "0.88316"
            ]
          },
          "metadata": {},
          "execution_count": 26
        }
      ],
      "source": [
        "y_pred = log_reg.predict(test_encoded)\n",
        "\n",
        "accuracy_score(y_pred, test_df[\"sentiment\"])"
      ]
    },
    {
      "cell_type": "markdown",
      "source": [
        "## Hyperparameters tuning"
      ],
      "metadata": {
        "id": "egcNpcPIfOYn"
      }
    },
    {
      "cell_type": "markdown",
      "source": [
        "### TfidfVectorizer + LogReg"
      ],
      "metadata": {
        "id": "5tcyarUnjz9m"
      }
    },
    {
      "cell_type": "code",
      "source": [
        "params = [{\n",
        "           \"tfidf_vec__lowercase\": [True, False],\n",
        "           \"tfidf_vec__ngram_range\" : [(1, 1), (1, 2)],\n",
        "           \"tfidf_vec__stop_words\": [\"english\", None],\n",
        "           \"tfidf_vec__min_df\": [0, 0.0001, 0.0005, 0.001, 0.01],\n",
        "           \"logreg__C\": [0.1, 0.5, 1.0],\n",
        "           \"tfidf_vec__token_pattern\": [r\"(?u)\\b\\w\\w+\\b\", r\"\\S+\", r\"[^\\w\\s]+|\\b\\w+\\b\"]\n",
        "           }]"
      ],
      "metadata": {
        "id": "oLeIEgjSSB3u"
      },
      "execution_count": null,
      "outputs": []
    },
    {
      "cell_type": "markdown",
      "source": [
        "#### Rating"
      ],
      "metadata": {
        "id": "Hb12RJPnSWsO"
      }
    },
    {
      "cell_type": "code",
      "source": [
        "rating_predictor = Pipeline([\n",
        "    (\"tfidf_vec\", TfidfVectorizer()),\n",
        "    (\"logreg\", LogisticRegression()),\n",
        "])"
      ],
      "metadata": {
        "id": "cGAP0V7nSB3t"
      },
      "execution_count": null,
      "outputs": []
    },
    {
      "cell_type": "code",
      "source": [
        "rating_predictor_rs = RandomizedSearchCV(rating_predictor,\n",
        "                                         params,\n",
        "                                         scoring=\"accuracy\",\n",
        "                                         n_jobs=-1,\n",
        "                                         refit=True,\n",
        "                                         random_state=SEED,\n",
        "                                         n_iter=30)"
      ],
      "metadata": {
        "id": "fuI8QPGESB3u"
      },
      "execution_count": null,
      "outputs": []
    },
    {
      "cell_type": "code",
      "source": [
        "rating_predictor_rs.fit(train_df.text, train_df.rating)"
      ],
      "metadata": {
        "colab": {
          "base_uri": "https://localhost:8080/",
          "height": 311
        },
        "id": "mNmrDwqGSB3u",
        "outputId": "ff3cfe36-cf79-49d3-80c3-4381de9da6ff"
      },
      "execution_count": null,
      "outputs": [
        {
          "output_type": "stream",
          "name": "stderr",
          "text": [
            "/usr/local/lib/python3.10/dist-packages/sklearn/linear_model/_logistic.py:458: ConvergenceWarning: lbfgs failed to converge (status=1):\n",
            "STOP: TOTAL NO. of ITERATIONS REACHED LIMIT.\n",
            "\n",
            "Increase the number of iterations (max_iter) or scale the data as shown in:\n",
            "    https://scikit-learn.org/stable/modules/preprocessing.html\n",
            "Please also refer to the documentation for alternative solver options:\n",
            "    https://scikit-learn.org/stable/modules/linear_model.html#logistic-regression\n",
            "  n_iter_i = _check_optimize_result(\n"
          ]
        },
        {
          "output_type": "execute_result",
          "data": {
            "text/plain": [
              "RandomizedSearchCV(estimator=Pipeline(steps=[('tfidf_vec', TfidfVectorizer()),\n",
              "                                             ('logreg', LogisticRegression())]),\n",
              "                   n_iter=30, n_jobs=-1,\n",
              "                   param_distributions=[{'logreg__C': [0.1, 0.5, 1.0],\n",
              "                                         'tfidf_vec__lowercase': [True, False],\n",
              "                                         'tfidf_vec__min_df': [0, 0.0001,\n",
              "                                                               0.0005, 0.001,\n",
              "                                                               0.01],\n",
              "                                         'tfidf_vec__ngram_range': [(1, 1),\n",
              "                                                                    (1, 2)],\n",
              "                                         'tfidf_vec__stop_words': ['english',\n",
              "                                                                   None],\n",
              "                                         'tfidf_vec__token_pattern': ['(?u)\\\\b\\\\w\\\\w+\\\\b',\n",
              "                                                                      '\\\\S+',\n",
              "                                                                      '[^\\\\w\\\\s]+|\\\\b\\\\w+\\\\b']}],\n",
              "                   random_state=42, scoring='accuracy')"
            ],
            "text/html": [
              "<style>#sk-container-id-1 {color: black;background-color: white;}#sk-container-id-1 pre{padding: 0;}#sk-container-id-1 div.sk-toggleable {background-color: white;}#sk-container-id-1 label.sk-toggleable__label {cursor: pointer;display: block;width: 100%;margin-bottom: 0;padding: 0.3em;box-sizing: border-box;text-align: center;}#sk-container-id-1 label.sk-toggleable__label-arrow:before {content: \"▸\";float: left;margin-right: 0.25em;color: #696969;}#sk-container-id-1 label.sk-toggleable__label-arrow:hover:before {color: black;}#sk-container-id-1 div.sk-estimator:hover label.sk-toggleable__label-arrow:before {color: black;}#sk-container-id-1 div.sk-toggleable__content {max-height: 0;max-width: 0;overflow: hidden;text-align: left;background-color: #f0f8ff;}#sk-container-id-1 div.sk-toggleable__content pre {margin: 0.2em;color: black;border-radius: 0.25em;background-color: #f0f8ff;}#sk-container-id-1 input.sk-toggleable__control:checked~div.sk-toggleable__content {max-height: 200px;max-width: 100%;overflow: auto;}#sk-container-id-1 input.sk-toggleable__control:checked~label.sk-toggleable__label-arrow:before {content: \"▾\";}#sk-container-id-1 div.sk-estimator input.sk-toggleable__control:checked~label.sk-toggleable__label {background-color: #d4ebff;}#sk-container-id-1 div.sk-label input.sk-toggleable__control:checked~label.sk-toggleable__label {background-color: #d4ebff;}#sk-container-id-1 input.sk-hidden--visually {border: 0;clip: rect(1px 1px 1px 1px);clip: rect(1px, 1px, 1px, 1px);height: 1px;margin: -1px;overflow: hidden;padding: 0;position: absolute;width: 1px;}#sk-container-id-1 div.sk-estimator {font-family: monospace;background-color: #f0f8ff;border: 1px dotted black;border-radius: 0.25em;box-sizing: border-box;margin-bottom: 0.5em;}#sk-container-id-1 div.sk-estimator:hover {background-color: #d4ebff;}#sk-container-id-1 div.sk-parallel-item::after {content: \"\";width: 100%;border-bottom: 1px solid gray;flex-grow: 1;}#sk-container-id-1 div.sk-label:hover label.sk-toggleable__label {background-color: #d4ebff;}#sk-container-id-1 div.sk-serial::before {content: \"\";position: absolute;border-left: 1px solid gray;box-sizing: border-box;top: 0;bottom: 0;left: 50%;z-index: 0;}#sk-container-id-1 div.sk-serial {display: flex;flex-direction: column;align-items: center;background-color: white;padding-right: 0.2em;padding-left: 0.2em;position: relative;}#sk-container-id-1 div.sk-item {position: relative;z-index: 1;}#sk-container-id-1 div.sk-parallel {display: flex;align-items: stretch;justify-content: center;background-color: white;position: relative;}#sk-container-id-1 div.sk-item::before, #sk-container-id-1 div.sk-parallel-item::before {content: \"\";position: absolute;border-left: 1px solid gray;box-sizing: border-box;top: 0;bottom: 0;left: 50%;z-index: -1;}#sk-container-id-1 div.sk-parallel-item {display: flex;flex-direction: column;z-index: 1;position: relative;background-color: white;}#sk-container-id-1 div.sk-parallel-item:first-child::after {align-self: flex-end;width: 50%;}#sk-container-id-1 div.sk-parallel-item:last-child::after {align-self: flex-start;width: 50%;}#sk-container-id-1 div.sk-parallel-item:only-child::after {width: 0;}#sk-container-id-1 div.sk-dashed-wrapped {border: 1px dashed gray;margin: 0 0.4em 0.5em 0.4em;box-sizing: border-box;padding-bottom: 0.4em;background-color: white;}#sk-container-id-1 div.sk-label label {font-family: monospace;font-weight: bold;display: inline-block;line-height: 1.2em;}#sk-container-id-1 div.sk-label-container {text-align: center;}#sk-container-id-1 div.sk-container {/* jupyter's `normalize.less` sets `[hidden] { display: none; }` but bootstrap.min.css set `[hidden] { display: none !important; }` so we also need the `!important` here to be able to override the default hidden behavior on the sphinx rendered scikit-learn.org. See: https://github.com/scikit-learn/scikit-learn/issues/21755 */display: inline-block !important;position: relative;}#sk-container-id-1 div.sk-text-repr-fallback {display: none;}</style><div id=\"sk-container-id-1\" class=\"sk-top-container\"><div class=\"sk-text-repr-fallback\"><pre>RandomizedSearchCV(estimator=Pipeline(steps=[(&#x27;tfidf_vec&#x27;, TfidfVectorizer()),\n",
              "                                             (&#x27;logreg&#x27;, LogisticRegression())]),\n",
              "                   n_iter=30, n_jobs=-1,\n",
              "                   param_distributions=[{&#x27;logreg__C&#x27;: [0.1, 0.5, 1.0],\n",
              "                                         &#x27;tfidf_vec__lowercase&#x27;: [True, False],\n",
              "                                         &#x27;tfidf_vec__min_df&#x27;: [0, 0.0001,\n",
              "                                                               0.0005, 0.001,\n",
              "                                                               0.01],\n",
              "                                         &#x27;tfidf_vec__ngram_range&#x27;: [(1, 1),\n",
              "                                                                    (1, 2)],\n",
              "                                         &#x27;tfidf_vec__stop_words&#x27;: [&#x27;english&#x27;,\n",
              "                                                                   None],\n",
              "                                         &#x27;tfidf_vec__token_pattern&#x27;: [&#x27;(?u)\\\\b\\\\w\\\\w+\\\\b&#x27;,\n",
              "                                                                      &#x27;\\\\S+&#x27;,\n",
              "                                                                      &#x27;[^\\\\w\\\\s]+|\\\\b\\\\w+\\\\b&#x27;]}],\n",
              "                   random_state=42, scoring=&#x27;accuracy&#x27;)</pre><b>In a Jupyter environment, please rerun this cell to show the HTML representation or trust the notebook. <br />On GitHub, the HTML representation is unable to render, please try loading this page with nbviewer.org.</b></div><div class=\"sk-container\" hidden><div class=\"sk-item sk-dashed-wrapped\"><div class=\"sk-label-container\"><div class=\"sk-label sk-toggleable\"><input class=\"sk-toggleable__control sk-hidden--visually\" id=\"sk-estimator-id-1\" type=\"checkbox\" ><label for=\"sk-estimator-id-1\" class=\"sk-toggleable__label sk-toggleable__label-arrow\">RandomizedSearchCV</label><div class=\"sk-toggleable__content\"><pre>RandomizedSearchCV(estimator=Pipeline(steps=[(&#x27;tfidf_vec&#x27;, TfidfVectorizer()),\n",
              "                                             (&#x27;logreg&#x27;, LogisticRegression())]),\n",
              "                   n_iter=30, n_jobs=-1,\n",
              "                   param_distributions=[{&#x27;logreg__C&#x27;: [0.1, 0.5, 1.0],\n",
              "                                         &#x27;tfidf_vec__lowercase&#x27;: [True, False],\n",
              "                                         &#x27;tfidf_vec__min_df&#x27;: [0, 0.0001,\n",
              "                                                               0.0005, 0.001,\n",
              "                                                               0.01],\n",
              "                                         &#x27;tfidf_vec__ngram_range&#x27;: [(1, 1),\n",
              "                                                                    (1, 2)],\n",
              "                                         &#x27;tfidf_vec__stop_words&#x27;: [&#x27;english&#x27;,\n",
              "                                                                   None],\n",
              "                                         &#x27;tfidf_vec__token_pattern&#x27;: [&#x27;(?u)\\\\b\\\\w\\\\w+\\\\b&#x27;,\n",
              "                                                                      &#x27;\\\\S+&#x27;,\n",
              "                                                                      &#x27;[^\\\\w\\\\s]+|\\\\b\\\\w+\\\\b&#x27;]}],\n",
              "                   random_state=42, scoring=&#x27;accuracy&#x27;)</pre></div></div></div><div class=\"sk-parallel\"><div class=\"sk-parallel-item\"><div class=\"sk-item\"><div class=\"sk-label-container\"><div class=\"sk-label sk-toggleable\"><input class=\"sk-toggleable__control sk-hidden--visually\" id=\"sk-estimator-id-2\" type=\"checkbox\" ><label for=\"sk-estimator-id-2\" class=\"sk-toggleable__label sk-toggleable__label-arrow\">estimator: Pipeline</label><div class=\"sk-toggleable__content\"><pre>Pipeline(steps=[(&#x27;tfidf_vec&#x27;, TfidfVectorizer()),\n",
              "                (&#x27;logreg&#x27;, LogisticRegression())])</pre></div></div></div><div class=\"sk-serial\"><div class=\"sk-item\"><div class=\"sk-serial\"><div class=\"sk-item\"><div class=\"sk-estimator sk-toggleable\"><input class=\"sk-toggleable__control sk-hidden--visually\" id=\"sk-estimator-id-3\" type=\"checkbox\" ><label for=\"sk-estimator-id-3\" class=\"sk-toggleable__label sk-toggleable__label-arrow\">TfidfVectorizer</label><div class=\"sk-toggleable__content\"><pre>TfidfVectorizer()</pre></div></div></div><div class=\"sk-item\"><div class=\"sk-estimator sk-toggleable\"><input class=\"sk-toggleable__control sk-hidden--visually\" id=\"sk-estimator-id-4\" type=\"checkbox\" ><label for=\"sk-estimator-id-4\" class=\"sk-toggleable__label sk-toggleable__label-arrow\">LogisticRegression</label><div class=\"sk-toggleable__content\"><pre>LogisticRegression()</pre></div></div></div></div></div></div></div></div></div></div></div></div>"
            ]
          },
          "metadata": {},
          "execution_count": 14
        }
      ]
    },
    {
      "cell_type": "code",
      "source": [
        "rating_predictor_rs.best_score_"
      ],
      "metadata": {
        "colab": {
          "base_uri": "https://localhost:8080/"
        },
        "outputId": "2c8db127-aa08-458d-b243-35e1a1ebe8eb",
        "id": "Cwgve2akSB3u"
      },
      "execution_count": null,
      "outputs": [
        {
          "data": {
            "text/plain": [
              "0.4566800000000001"
            ]
          },
          "execution_count": 15,
          "metadata": {},
          "output_type": "execute_result"
        }
      ]
    },
    {
      "cell_type": "code",
      "source": [
        "accuracy_score(test_df.rating,\n",
        "               rating_predictor_rs.predict(test_df.text))"
      ],
      "metadata": {
        "colab": {
          "base_uri": "https://localhost:8080/"
        },
        "outputId": "d1981e0b-b1ef-495f-e987-2d360eb6bbb9",
        "id": "npeLxrjFSB3v"
      },
      "execution_count": null,
      "outputs": [
        {
          "output_type": "execute_result",
          "data": {
            "text/plain": [
              "0.45636"
            ]
          },
          "metadata": {},
          "execution_count": 16
        }
      ]
    },
    {
      "cell_type": "code",
      "source": [
        "rating_predictor_rs.best_params_"
      ],
      "metadata": {
        "colab": {
          "base_uri": "https://localhost:8080/"
        },
        "outputId": "6ce097e0-63ef-4ddb-b8da-9818d6f6b613",
        "id": "31Ue3aXWSB3v"
      },
      "execution_count": null,
      "outputs": [
        {
          "output_type": "execute_result",
          "data": {
            "text/plain": [
              "{'tfidf_vec__token_pattern': '[^\\\\w\\\\s]+|\\\\b\\\\w+\\\\b',\n",
              " 'tfidf_vec__stop_words': 'english',\n",
              " 'tfidf_vec__ngram_range': (1, 2),\n",
              " 'tfidf_vec__min_df': 0.0005,\n",
              " 'tfidf_vec__lowercase': True,\n",
              " 'logreg__C': 1.0}"
            ]
          },
          "metadata": {},
          "execution_count": 18
        }
      ]
    },
    {
      "cell_type": "markdown",
      "source": [
        "#### Sentiment"
      ],
      "metadata": {
        "id": "jnAmMXarScGp"
      }
    },
    {
      "cell_type": "code",
      "source": [
        "binary_classifier = Pipeline([\n",
        "    (\"tfidf_vec\", TfidfVectorizer()),\n",
        "    (\"logreg\", LogisticRegression()),\n",
        "])"
      ],
      "metadata": {
        "id": "cd8L8Lrfekg5"
      },
      "execution_count": null,
      "outputs": []
    },
    {
      "cell_type": "code",
      "source": [
        "params = [{\n",
        "           \"tfidf_vec__lowercase\": [True, False],\n",
        "           \"tfidf_vec__ngram_range\" : [(1, 1), (1, 2)],\n",
        "           \"tfidf_vec__stop_words\": [\"english\", None],\n",
        "           \"tfidf_vec__min_df\": [0, 0.0001, 0.0005, 0.001, 0.01],\n",
        "           \"logreg__C\": [0.1, 0.5, 1.0],\n",
        "           \"tfidf_vec__token_pattern\": [r\"(?u)\\b\\w\\w+\\b\", r\"\\S+\", r\"[^\\w\\s]+|\\b\\w+\\b\"]\n",
        "           }]"
      ],
      "metadata": {
        "id": "TPdyvR3ofVmn"
      },
      "execution_count": null,
      "outputs": []
    },
    {
      "cell_type": "code",
      "source": [
        "binary_classifier_rs = RandomizedSearchCV(binary_classifier,\n",
        "                                          params,\n",
        "                                          scoring=\"accuracy\",\n",
        "                                          n_jobs=-1,\n",
        "                                          refit=True,\n",
        "                                          random_state=SEED,\n",
        "                                          n_iter=30)"
      ],
      "metadata": {
        "id": "VGlUBbHMh-yu"
      },
      "execution_count": null,
      "outputs": []
    },
    {
      "cell_type": "code",
      "source": [
        "binary_classifier_rs.fit(train_df.text, train_df.sentiment)"
      ],
      "metadata": {
        "id": "mI65I9lyhAyF",
        "colab": {
          "base_uri": "https://localhost:8080/",
          "height": 152
        },
        "outputId": "243a6d2f-997e-4d4c-8351-81e7ab072c01"
      },
      "execution_count": null,
      "outputs": [
        {
          "output_type": "execute_result",
          "data": {
            "text/plain": [
              "RandomizedSearchCV(estimator=Pipeline(steps=[('tfidf_vec', TfidfVectorizer()),\n",
              "                                             ('logreg', LogisticRegression())]),\n",
              "                   n_iter=30, n_jobs=-1,\n",
              "                   param_distributions=[{'logreg__C': [0.1, 0.5, 1.0],\n",
              "                                         'tfidf_vec__lowercase': [True, False],\n",
              "                                         'tfidf_vec__min_df': [0, 0.0001,\n",
              "                                                               0.0005, 0.001,\n",
              "                                                               0.01],\n",
              "                                         'tfidf_vec__ngram_range': [(1, 1),\n",
              "                                                                    (1, 2)],\n",
              "                                         'tfidf_vec__stop_words': ['english',\n",
              "                                                                   None],\n",
              "                                         'tfidf_vec__token_pattern': ['(?u)\\\\b\\\\w\\\\w+\\\\b',\n",
              "                                                                      '\\\\S+',\n",
              "                                                                      '[^\\\\w\\\\s]+|\\\\b\\\\w+\\\\b']}],\n",
              "                   random_state=42, scoring='accuracy')"
            ],
            "text/html": [
              "<style>#sk-container-id-4 {color: black;background-color: white;}#sk-container-id-4 pre{padding: 0;}#sk-container-id-4 div.sk-toggleable {background-color: white;}#sk-container-id-4 label.sk-toggleable__label {cursor: pointer;display: block;width: 100%;margin-bottom: 0;padding: 0.3em;box-sizing: border-box;text-align: center;}#sk-container-id-4 label.sk-toggleable__label-arrow:before {content: \"▸\";float: left;margin-right: 0.25em;color: #696969;}#sk-container-id-4 label.sk-toggleable__label-arrow:hover:before {color: black;}#sk-container-id-4 div.sk-estimator:hover label.sk-toggleable__label-arrow:before {color: black;}#sk-container-id-4 div.sk-toggleable__content {max-height: 0;max-width: 0;overflow: hidden;text-align: left;background-color: #f0f8ff;}#sk-container-id-4 div.sk-toggleable__content pre {margin: 0.2em;color: black;border-radius: 0.25em;background-color: #f0f8ff;}#sk-container-id-4 input.sk-toggleable__control:checked~div.sk-toggleable__content {max-height: 200px;max-width: 100%;overflow: auto;}#sk-container-id-4 input.sk-toggleable__control:checked~label.sk-toggleable__label-arrow:before {content: \"▾\";}#sk-container-id-4 div.sk-estimator input.sk-toggleable__control:checked~label.sk-toggleable__label {background-color: #d4ebff;}#sk-container-id-4 div.sk-label input.sk-toggleable__control:checked~label.sk-toggleable__label {background-color: #d4ebff;}#sk-container-id-4 input.sk-hidden--visually {border: 0;clip: rect(1px 1px 1px 1px);clip: rect(1px, 1px, 1px, 1px);height: 1px;margin: -1px;overflow: hidden;padding: 0;position: absolute;width: 1px;}#sk-container-id-4 div.sk-estimator {font-family: monospace;background-color: #f0f8ff;border: 1px dotted black;border-radius: 0.25em;box-sizing: border-box;margin-bottom: 0.5em;}#sk-container-id-4 div.sk-estimator:hover {background-color: #d4ebff;}#sk-container-id-4 div.sk-parallel-item::after {content: \"\";width: 100%;border-bottom: 1px solid gray;flex-grow: 1;}#sk-container-id-4 div.sk-label:hover label.sk-toggleable__label {background-color: #d4ebff;}#sk-container-id-4 div.sk-serial::before {content: \"\";position: absolute;border-left: 1px solid gray;box-sizing: border-box;top: 0;bottom: 0;left: 50%;z-index: 0;}#sk-container-id-4 div.sk-serial {display: flex;flex-direction: column;align-items: center;background-color: white;padding-right: 0.2em;padding-left: 0.2em;position: relative;}#sk-container-id-4 div.sk-item {position: relative;z-index: 1;}#sk-container-id-4 div.sk-parallel {display: flex;align-items: stretch;justify-content: center;background-color: white;position: relative;}#sk-container-id-4 div.sk-item::before, #sk-container-id-4 div.sk-parallel-item::before {content: \"\";position: absolute;border-left: 1px solid gray;box-sizing: border-box;top: 0;bottom: 0;left: 50%;z-index: -1;}#sk-container-id-4 div.sk-parallel-item {display: flex;flex-direction: column;z-index: 1;position: relative;background-color: white;}#sk-container-id-4 div.sk-parallel-item:first-child::after {align-self: flex-end;width: 50%;}#sk-container-id-4 div.sk-parallel-item:last-child::after {align-self: flex-start;width: 50%;}#sk-container-id-4 div.sk-parallel-item:only-child::after {width: 0;}#sk-container-id-4 div.sk-dashed-wrapped {border: 1px dashed gray;margin: 0 0.4em 0.5em 0.4em;box-sizing: border-box;padding-bottom: 0.4em;background-color: white;}#sk-container-id-4 div.sk-label label {font-family: monospace;font-weight: bold;display: inline-block;line-height: 1.2em;}#sk-container-id-4 div.sk-label-container {text-align: center;}#sk-container-id-4 div.sk-container {/* jupyter's `normalize.less` sets `[hidden] { display: none; }` but bootstrap.min.css set `[hidden] { display: none !important; }` so we also need the `!important` here to be able to override the default hidden behavior on the sphinx rendered scikit-learn.org. See: https://github.com/scikit-learn/scikit-learn/issues/21755 */display: inline-block !important;position: relative;}#sk-container-id-4 div.sk-text-repr-fallback {display: none;}</style><div id=\"sk-container-id-4\" class=\"sk-top-container\"><div class=\"sk-text-repr-fallback\"><pre>RandomizedSearchCV(estimator=Pipeline(steps=[(&#x27;tfidf_vec&#x27;, TfidfVectorizer()),\n",
              "                                             (&#x27;logreg&#x27;, LogisticRegression())]),\n",
              "                   n_iter=30, n_jobs=-1,\n",
              "                   param_distributions=[{&#x27;logreg__C&#x27;: [0.1, 0.5, 1.0],\n",
              "                                         &#x27;tfidf_vec__lowercase&#x27;: [True, False],\n",
              "                                         &#x27;tfidf_vec__min_df&#x27;: [0, 0.0001,\n",
              "                                                               0.0005, 0.001,\n",
              "                                                               0.01],\n",
              "                                         &#x27;tfidf_vec__ngram_range&#x27;: [(1, 1),\n",
              "                                                                    (1, 2)],\n",
              "                                         &#x27;tfidf_vec__stop_words&#x27;: [&#x27;english&#x27;,\n",
              "                                                                   None],\n",
              "                                         &#x27;tfidf_vec__token_pattern&#x27;: [&#x27;(?u)\\\\b\\\\w\\\\w+\\\\b&#x27;,\n",
              "                                                                      &#x27;\\\\S+&#x27;,\n",
              "                                                                      &#x27;[^\\\\w\\\\s]+|\\\\b\\\\w+\\\\b&#x27;]}],\n",
              "                   random_state=42, scoring=&#x27;accuracy&#x27;)</pre><b>In a Jupyter environment, please rerun this cell to show the HTML representation or trust the notebook. <br />On GitHub, the HTML representation is unable to render, please try loading this page with nbviewer.org.</b></div><div class=\"sk-container\" hidden><div class=\"sk-item sk-dashed-wrapped\"><div class=\"sk-label-container\"><div class=\"sk-label sk-toggleable\"><input class=\"sk-toggleable__control sk-hidden--visually\" id=\"sk-estimator-id-11\" type=\"checkbox\" ><label for=\"sk-estimator-id-11\" class=\"sk-toggleable__label sk-toggleable__label-arrow\">RandomizedSearchCV</label><div class=\"sk-toggleable__content\"><pre>RandomizedSearchCV(estimator=Pipeline(steps=[(&#x27;tfidf_vec&#x27;, TfidfVectorizer()),\n",
              "                                             (&#x27;logreg&#x27;, LogisticRegression())]),\n",
              "                   n_iter=30, n_jobs=-1,\n",
              "                   param_distributions=[{&#x27;logreg__C&#x27;: [0.1, 0.5, 1.0],\n",
              "                                         &#x27;tfidf_vec__lowercase&#x27;: [True, False],\n",
              "                                         &#x27;tfidf_vec__min_df&#x27;: [0, 0.0001,\n",
              "                                                               0.0005, 0.001,\n",
              "                                                               0.01],\n",
              "                                         &#x27;tfidf_vec__ngram_range&#x27;: [(1, 1),\n",
              "                                                                    (1, 2)],\n",
              "                                         &#x27;tfidf_vec__stop_words&#x27;: [&#x27;english&#x27;,\n",
              "                                                                   None],\n",
              "                                         &#x27;tfidf_vec__token_pattern&#x27;: [&#x27;(?u)\\\\b\\\\w\\\\w+\\\\b&#x27;,\n",
              "                                                                      &#x27;\\\\S+&#x27;,\n",
              "                                                                      &#x27;[^\\\\w\\\\s]+|\\\\b\\\\w+\\\\b&#x27;]}],\n",
              "                   random_state=42, scoring=&#x27;accuracy&#x27;)</pre></div></div></div><div class=\"sk-parallel\"><div class=\"sk-parallel-item\"><div class=\"sk-item\"><div class=\"sk-label-container\"><div class=\"sk-label sk-toggleable\"><input class=\"sk-toggleable__control sk-hidden--visually\" id=\"sk-estimator-id-12\" type=\"checkbox\" ><label for=\"sk-estimator-id-12\" class=\"sk-toggleable__label sk-toggleable__label-arrow\">estimator: Pipeline</label><div class=\"sk-toggleable__content\"><pre>Pipeline(steps=[(&#x27;tfidf_vec&#x27;, TfidfVectorizer()),\n",
              "                (&#x27;logreg&#x27;, LogisticRegression())])</pre></div></div></div><div class=\"sk-serial\"><div class=\"sk-item\"><div class=\"sk-serial\"><div class=\"sk-item\"><div class=\"sk-estimator sk-toggleable\"><input class=\"sk-toggleable__control sk-hidden--visually\" id=\"sk-estimator-id-13\" type=\"checkbox\" ><label for=\"sk-estimator-id-13\" class=\"sk-toggleable__label sk-toggleable__label-arrow\">TfidfVectorizer</label><div class=\"sk-toggleable__content\"><pre>TfidfVectorizer()</pre></div></div></div><div class=\"sk-item\"><div class=\"sk-estimator sk-toggleable\"><input class=\"sk-toggleable__control sk-hidden--visually\" id=\"sk-estimator-id-14\" type=\"checkbox\" ><label for=\"sk-estimator-id-14\" class=\"sk-toggleable__label sk-toggleable__label-arrow\">LogisticRegression</label><div class=\"sk-toggleable__content\"><pre>LogisticRegression()</pre></div></div></div></div></div></div></div></div></div></div></div></div>"
            ]
          },
          "metadata": {},
          "execution_count": 30
        }
      ]
    },
    {
      "cell_type": "code",
      "source": [
        "binary_classifier_rs.best_score_"
      ],
      "metadata": {
        "id": "_FeOngxdIhGd",
        "colab": {
          "base_uri": "https://localhost:8080/"
        },
        "outputId": "0636c984-eafc-4cb8-be17-3bd77d9f9ae6"
      },
      "execution_count": null,
      "outputs": [
        {
          "data": {
            "text/plain": [
              "0.8942"
            ]
          },
          "execution_count": 31,
          "metadata": {},
          "output_type": "execute_result"
        }
      ]
    },
    {
      "cell_type": "code",
      "source": [
        "accuracy_score(test_df.sentiment,\n",
        "               binary_classifier_rs.predict(test_df.text))"
      ],
      "metadata": {
        "id": "m3NthyWDoRPj",
        "colab": {
          "base_uri": "https://localhost:8080/"
        },
        "outputId": "69ee512a-e39d-4732-950f-1b0bf5e3c659"
      },
      "execution_count": null,
      "outputs": [
        {
          "output_type": "execute_result",
          "data": {
            "text/plain": [
              "0.89496"
            ]
          },
          "metadata": {},
          "execution_count": 32
        }
      ]
    },
    {
      "cell_type": "code",
      "source": [
        "binary_classifier_rs.best_params_"
      ],
      "metadata": {
        "id": "69ijwTyDxfIW",
        "colab": {
          "base_uri": "https://localhost:8080/"
        },
        "outputId": "b0d738cc-c48d-4fe7-8d9f-72650ae627b4"
      },
      "execution_count": null,
      "outputs": [
        {
          "data": {
            "text/plain": [
              "{'tfidf_vec__token_pattern': '(?u)\\\\b\\\\w\\\\w+\\\\b',\n",
              " 'tfidf_vec__stop_words': None,\n",
              " 'tfidf_vec__ngram_range': (1, 2),\n",
              " 'tfidf_vec__min_df': 0.001,\n",
              " 'tfidf_vec__lowercase': True,\n",
              " 'logreg__C': 1.0}"
            ]
          },
          "execution_count": 33,
          "metadata": {},
          "output_type": "execute_result"
        }
      ]
    },
    {
      "cell_type": "markdown",
      "source": [
        "### HashVectorizer + LogReg"
      ],
      "metadata": {
        "id": "9XNsAF0EkNqO"
      }
    },
    {
      "cell_type": "code",
      "source": [
        "params = [{\n",
        "           \"hash_vec__lowercase\": [True, False],\n",
        "           \"hash_vec__ngram_range\" : [(1, 1), (1, 2)],\n",
        "           \"hash_vec__stop_words\": [\"english\", None],\n",
        "           \"hash_vec__token_pattern\": [r\"(?u)\\b\\w\\w+\\b\", r\"\\S+\", r\"[^\\w\\s]+|\\b\\w+\\b\"],\n",
        "           \"logreg__C\": [0.1, 0.5, 1.0]\n",
        "           }]"
      ],
      "metadata": {
        "id": "horfGY7Fkssv"
      },
      "execution_count": 11,
      "outputs": []
    },
    {
      "cell_type": "markdown",
      "source": [
        "#### Rating"
      ],
      "metadata": {
        "id": "UrHN4DsoAP3A"
      }
    },
    {
      "cell_type": "code",
      "source": [
        "rating_predictor = Pipeline([\n",
        "    (\"hash_vec\", HashingVectorizer()),\n",
        "    (\"logreg\", LogisticRegression()),\n",
        "])"
      ],
      "metadata": {
        "id": "BKp_8ldV9Z-1"
      },
      "execution_count": null,
      "outputs": []
    },
    {
      "cell_type": "code",
      "source": [
        "rating_predictor_rs = RandomizedSearchCV(rating_predictor,\n",
        "                                         params,\n",
        "                                         scoring=\"accuracy\",\n",
        "                                         n_jobs=-1,\n",
        "                                         refit=True,\n",
        "                                         random_state=SEED,\n",
        "                                         n_iter=20)"
      ],
      "metadata": {
        "id": "cRNsvInI9Z-1"
      },
      "execution_count": null,
      "outputs": []
    },
    {
      "cell_type": "code",
      "source": [
        "rating_predictor_rs.fit(train_df.text, train_df.rating)"
      ],
      "metadata": {
        "colab": {
          "base_uri": "https://localhost:8080/",
          "height": 311
        },
        "outputId": "d40bd248-fcca-4149-fb4f-e905cd921cb9",
        "id": "pSNrK27h9Z-1"
      },
      "execution_count": null,
      "outputs": [
        {
          "output_type": "stream",
          "name": "stderr",
          "text": [
            "/usr/local/lib/python3.10/dist-packages/sklearn/linear_model/_logistic.py:458: ConvergenceWarning: lbfgs failed to converge (status=1):\n",
            "STOP: TOTAL NO. of ITERATIONS REACHED LIMIT.\n",
            "\n",
            "Increase the number of iterations (max_iter) or scale the data as shown in:\n",
            "    https://scikit-learn.org/stable/modules/preprocessing.html\n",
            "Please also refer to the documentation for alternative solver options:\n",
            "    https://scikit-learn.org/stable/modules/linear_model.html#logistic-regression\n",
            "  n_iter_i = _check_optimize_result(\n"
          ]
        },
        {
          "output_type": "execute_result",
          "data": {
            "text/plain": [
              "RandomizedSearchCV(estimator=Pipeline(steps=[('hash_vec', HashingVectorizer()),\n",
              "                                             ('logreg', LogisticRegression())]),\n",
              "                   n_iter=20, n_jobs=-1,\n",
              "                   param_distributions=[{'hash_vec__lowercase': [True, False],\n",
              "                                         'hash_vec__ngram_range': [(1, 1),\n",
              "                                                                   (1, 2)],\n",
              "                                         'hash_vec__stop_words': ['english',\n",
              "                                                                  None],\n",
              "                                         'hash_vec__token_pattern': ['(?u)\\\\b\\\\w\\\\w+\\\\b',\n",
              "                                                                     '\\\\S+',\n",
              "                                                                     '[^\\\\w\\\\s]+|\\\\b\\\\w+\\\\b'],\n",
              "                                         'logreg__C': [0.1, 0.5, 1.0]}],\n",
              "                   random_state=42, scoring='accuracy')"
            ],
            "text/html": [
              "<style>#sk-container-id-1 {color: black;background-color: white;}#sk-container-id-1 pre{padding: 0;}#sk-container-id-1 div.sk-toggleable {background-color: white;}#sk-container-id-1 label.sk-toggleable__label {cursor: pointer;display: block;width: 100%;margin-bottom: 0;padding: 0.3em;box-sizing: border-box;text-align: center;}#sk-container-id-1 label.sk-toggleable__label-arrow:before {content: \"▸\";float: left;margin-right: 0.25em;color: #696969;}#sk-container-id-1 label.sk-toggleable__label-arrow:hover:before {color: black;}#sk-container-id-1 div.sk-estimator:hover label.sk-toggleable__label-arrow:before {color: black;}#sk-container-id-1 div.sk-toggleable__content {max-height: 0;max-width: 0;overflow: hidden;text-align: left;background-color: #f0f8ff;}#sk-container-id-1 div.sk-toggleable__content pre {margin: 0.2em;color: black;border-radius: 0.25em;background-color: #f0f8ff;}#sk-container-id-1 input.sk-toggleable__control:checked~div.sk-toggleable__content {max-height: 200px;max-width: 100%;overflow: auto;}#sk-container-id-1 input.sk-toggleable__control:checked~label.sk-toggleable__label-arrow:before {content: \"▾\";}#sk-container-id-1 div.sk-estimator input.sk-toggleable__control:checked~label.sk-toggleable__label {background-color: #d4ebff;}#sk-container-id-1 div.sk-label input.sk-toggleable__control:checked~label.sk-toggleable__label {background-color: #d4ebff;}#sk-container-id-1 input.sk-hidden--visually {border: 0;clip: rect(1px 1px 1px 1px);clip: rect(1px, 1px, 1px, 1px);height: 1px;margin: -1px;overflow: hidden;padding: 0;position: absolute;width: 1px;}#sk-container-id-1 div.sk-estimator {font-family: monospace;background-color: #f0f8ff;border: 1px dotted black;border-radius: 0.25em;box-sizing: border-box;margin-bottom: 0.5em;}#sk-container-id-1 div.sk-estimator:hover {background-color: #d4ebff;}#sk-container-id-1 div.sk-parallel-item::after {content: \"\";width: 100%;border-bottom: 1px solid gray;flex-grow: 1;}#sk-container-id-1 div.sk-label:hover label.sk-toggleable__label {background-color: #d4ebff;}#sk-container-id-1 div.sk-serial::before {content: \"\";position: absolute;border-left: 1px solid gray;box-sizing: border-box;top: 0;bottom: 0;left: 50%;z-index: 0;}#sk-container-id-1 div.sk-serial {display: flex;flex-direction: column;align-items: center;background-color: white;padding-right: 0.2em;padding-left: 0.2em;position: relative;}#sk-container-id-1 div.sk-item {position: relative;z-index: 1;}#sk-container-id-1 div.sk-parallel {display: flex;align-items: stretch;justify-content: center;background-color: white;position: relative;}#sk-container-id-1 div.sk-item::before, #sk-container-id-1 div.sk-parallel-item::before {content: \"\";position: absolute;border-left: 1px solid gray;box-sizing: border-box;top: 0;bottom: 0;left: 50%;z-index: -1;}#sk-container-id-1 div.sk-parallel-item {display: flex;flex-direction: column;z-index: 1;position: relative;background-color: white;}#sk-container-id-1 div.sk-parallel-item:first-child::after {align-self: flex-end;width: 50%;}#sk-container-id-1 div.sk-parallel-item:last-child::after {align-self: flex-start;width: 50%;}#sk-container-id-1 div.sk-parallel-item:only-child::after {width: 0;}#sk-container-id-1 div.sk-dashed-wrapped {border: 1px dashed gray;margin: 0 0.4em 0.5em 0.4em;box-sizing: border-box;padding-bottom: 0.4em;background-color: white;}#sk-container-id-1 div.sk-label label {font-family: monospace;font-weight: bold;display: inline-block;line-height: 1.2em;}#sk-container-id-1 div.sk-label-container {text-align: center;}#sk-container-id-1 div.sk-container {/* jupyter's `normalize.less` sets `[hidden] { display: none; }` but bootstrap.min.css set `[hidden] { display: none !important; }` so we also need the `!important` here to be able to override the default hidden behavior on the sphinx rendered scikit-learn.org. See: https://github.com/scikit-learn/scikit-learn/issues/21755 */display: inline-block !important;position: relative;}#sk-container-id-1 div.sk-text-repr-fallback {display: none;}</style><div id=\"sk-container-id-1\" class=\"sk-top-container\"><div class=\"sk-text-repr-fallback\"><pre>RandomizedSearchCV(estimator=Pipeline(steps=[(&#x27;hash_vec&#x27;, HashingVectorizer()),\n",
              "                                             (&#x27;logreg&#x27;, LogisticRegression())]),\n",
              "                   n_iter=20, n_jobs=-1,\n",
              "                   param_distributions=[{&#x27;hash_vec__lowercase&#x27;: [True, False],\n",
              "                                         &#x27;hash_vec__ngram_range&#x27;: [(1, 1),\n",
              "                                                                   (1, 2)],\n",
              "                                         &#x27;hash_vec__stop_words&#x27;: [&#x27;english&#x27;,\n",
              "                                                                  None],\n",
              "                                         &#x27;hash_vec__token_pattern&#x27;: [&#x27;(?u)\\\\b\\\\w\\\\w+\\\\b&#x27;,\n",
              "                                                                     &#x27;\\\\S+&#x27;,\n",
              "                                                                     &#x27;[^\\\\w\\\\s]+|\\\\b\\\\w+\\\\b&#x27;],\n",
              "                                         &#x27;logreg__C&#x27;: [0.1, 0.5, 1.0]}],\n",
              "                   random_state=42, scoring=&#x27;accuracy&#x27;)</pre><b>In a Jupyter environment, please rerun this cell to show the HTML representation or trust the notebook. <br />On GitHub, the HTML representation is unable to render, please try loading this page with nbviewer.org.</b></div><div class=\"sk-container\" hidden><div class=\"sk-item sk-dashed-wrapped\"><div class=\"sk-label-container\"><div class=\"sk-label sk-toggleable\"><input class=\"sk-toggleable__control sk-hidden--visually\" id=\"sk-estimator-id-1\" type=\"checkbox\" ><label for=\"sk-estimator-id-1\" class=\"sk-toggleable__label sk-toggleable__label-arrow\">RandomizedSearchCV</label><div class=\"sk-toggleable__content\"><pre>RandomizedSearchCV(estimator=Pipeline(steps=[(&#x27;hash_vec&#x27;, HashingVectorizer()),\n",
              "                                             (&#x27;logreg&#x27;, LogisticRegression())]),\n",
              "                   n_iter=20, n_jobs=-1,\n",
              "                   param_distributions=[{&#x27;hash_vec__lowercase&#x27;: [True, False],\n",
              "                                         &#x27;hash_vec__ngram_range&#x27;: [(1, 1),\n",
              "                                                                   (1, 2)],\n",
              "                                         &#x27;hash_vec__stop_words&#x27;: [&#x27;english&#x27;,\n",
              "                                                                  None],\n",
              "                                         &#x27;hash_vec__token_pattern&#x27;: [&#x27;(?u)\\\\b\\\\w\\\\w+\\\\b&#x27;,\n",
              "                                                                     &#x27;\\\\S+&#x27;,\n",
              "                                                                     &#x27;[^\\\\w\\\\s]+|\\\\b\\\\w+\\\\b&#x27;],\n",
              "                                         &#x27;logreg__C&#x27;: [0.1, 0.5, 1.0]}],\n",
              "                   random_state=42, scoring=&#x27;accuracy&#x27;)</pre></div></div></div><div class=\"sk-parallel\"><div class=\"sk-parallel-item\"><div class=\"sk-item\"><div class=\"sk-label-container\"><div class=\"sk-label sk-toggleable\"><input class=\"sk-toggleable__control sk-hidden--visually\" id=\"sk-estimator-id-2\" type=\"checkbox\" ><label for=\"sk-estimator-id-2\" class=\"sk-toggleable__label sk-toggleable__label-arrow\">estimator: Pipeline</label><div class=\"sk-toggleable__content\"><pre>Pipeline(steps=[(&#x27;hash_vec&#x27;, HashingVectorizer()),\n",
              "                (&#x27;logreg&#x27;, LogisticRegression())])</pre></div></div></div><div class=\"sk-serial\"><div class=\"sk-item\"><div class=\"sk-serial\"><div class=\"sk-item\"><div class=\"sk-estimator sk-toggleable\"><input class=\"sk-toggleable__control sk-hidden--visually\" id=\"sk-estimator-id-3\" type=\"checkbox\" ><label for=\"sk-estimator-id-3\" class=\"sk-toggleable__label sk-toggleable__label-arrow\">HashingVectorizer</label><div class=\"sk-toggleable__content\"><pre>HashingVectorizer()</pre></div></div></div><div class=\"sk-item\"><div class=\"sk-estimator sk-toggleable\"><input class=\"sk-toggleable__control sk-hidden--visually\" id=\"sk-estimator-id-4\" type=\"checkbox\" ><label for=\"sk-estimator-id-4\" class=\"sk-toggleable__label sk-toggleable__label-arrow\">LogisticRegression</label><div class=\"sk-toggleable__content\"><pre>LogisticRegression()</pre></div></div></div></div></div></div></div></div></div></div></div></div>"
            ]
          },
          "metadata": {},
          "execution_count": 15
        }
      ]
    },
    {
      "cell_type": "code",
      "source": [
        "rating_predictor_rs.best_params_"
      ],
      "metadata": {
        "colab": {
          "base_uri": "https://localhost:8080/"
        },
        "outputId": "c79540e3-6c3e-461d-c777-0cd08560745e",
        "id": "N9Ne2vbO9Z-2"
      },
      "execution_count": null,
      "outputs": [
        {
          "output_type": "execute_result",
          "data": {
            "text/plain": [
              "{'logreg__C': 1.0,\n",
              " 'hash_vec__token_pattern': '[^\\\\w\\\\s]+|\\\\b\\\\w+\\\\b',\n",
              " 'hash_vec__stop_words': 'english',\n",
              " 'hash_vec__ngram_range': (1, 2),\n",
              " 'hash_vec__lowercase': False}"
            ]
          },
          "metadata": {},
          "execution_count": 18
        }
      ]
    },
    {
      "cell_type": "code",
      "source": [
        "rating_predictor_rs.best_score_"
      ],
      "metadata": {
        "colab": {
          "base_uri": "https://localhost:8080/"
        },
        "outputId": "d72e4b97-6856-4fc2-d22e-ba280fcd2951",
        "id": "QphglMAl9Z-2"
      },
      "execution_count": null,
      "outputs": [
        {
          "output_type": "execute_result",
          "data": {
            "text/plain": [
              "0.4236"
            ]
          },
          "metadata": {},
          "execution_count": 16
        }
      ]
    },
    {
      "cell_type": "code",
      "source": [
        "accuracy_score(test_df.rating,\n",
        "               rating_predictor_rs.predict(test_df.text))"
      ],
      "metadata": {
        "colab": {
          "base_uri": "https://localhost:8080/"
        },
        "outputId": "8c522ea2-1f30-45b4-d429-1afa60cd5ce6",
        "id": "DFSVNSQ79Z-2"
      },
      "execution_count": null,
      "outputs": [
        {
          "output_type": "execute_result",
          "data": {
            "text/plain": [
              "0.43096"
            ]
          },
          "metadata": {},
          "execution_count": 17
        }
      ]
    },
    {
      "cell_type": "markdown",
      "source": [
        "#### Sentiment"
      ],
      "metadata": {
        "id": "L8IQKaeBkssv"
      }
    },
    {
      "cell_type": "code",
      "source": [
        "binary_classifier = Pipeline([\n",
        "    (\"hash_vec\", HashingVectorizer()),\n",
        "    (\"logreg\", LogisticRegression()),\n",
        "])"
      ],
      "metadata": {
        "id": "nACVW6cykssv"
      },
      "execution_count": 12,
      "outputs": []
    },
    {
      "cell_type": "code",
      "source": [
        "binary_classifier_rs = RandomizedSearchCV(binary_classifier,\n",
        "                                          params,\n",
        "                                          scoring=\"accuracy\",\n",
        "                                          n_jobs=-1,\n",
        "                                          refit=True,\n",
        "                                          random_state=SEED,\n",
        "                                          n_iter=30)"
      ],
      "metadata": {
        "id": "UmTgd_Bykssv"
      },
      "execution_count": null,
      "outputs": []
    },
    {
      "cell_type": "code",
      "source": [
        "binary_classifier_rs.fit(train_df.text, train_df.sentiment)"
      ],
      "metadata": {
        "colab": {
          "base_uri": "https://localhost:8080/",
          "height": 311
        },
        "outputId": "3cfac788-9f91-45e7-b9f9-48a433c80427",
        "id": "42vv4Eygkssw"
      },
      "execution_count": null,
      "outputs": [
        {
          "output_type": "stream",
          "name": "stderr",
          "text": [
            "/usr/local/lib/python3.10/dist-packages/sklearn/linear_model/_logistic.py:458: ConvergenceWarning: lbfgs failed to converge (status=1):\n",
            "STOP: TOTAL NO. of ITERATIONS REACHED LIMIT.\n",
            "\n",
            "Increase the number of iterations (max_iter) or scale the data as shown in:\n",
            "    https://scikit-learn.org/stable/modules/preprocessing.html\n",
            "Please also refer to the documentation for alternative solver options:\n",
            "    https://scikit-learn.org/stable/modules/linear_model.html#logistic-regression\n",
            "  n_iter_i = _check_optimize_result(\n"
          ]
        },
        {
          "output_type": "execute_result",
          "data": {
            "text/plain": [
              "RandomizedSearchCV(estimator=Pipeline(steps=[('hash_vec', HashingVectorizer()),\n",
              "                                             ('logreg', LogisticRegression())]),\n",
              "                   n_iter=30, n_jobs=-1,\n",
              "                   param_distributions=[{'hash_vec__lowercase': [True, False],\n",
              "                                         'hash_vec__ngram_range': [(1, 1),\n",
              "                                                                   (1, 2)],\n",
              "                                         'hash_vec__stop_words': ['english',\n",
              "                                                                  None],\n",
              "                                         'hash_vec__token_pattern': ['(?u)\\\\b\\\\w\\\\w+\\\\b',\n",
              "                                                                     '\\\\S+',\n",
              "                                                                     '[^\\\\w\\\\s]+|\\\\b\\\\w+\\\\b'],\n",
              "                                         'logreg__C': [0.1, 0.5, 1.0]}],\n",
              "                   random_state=42, scoring='accuracy')"
            ],
            "text/html": [
              "<style>#sk-container-id-1 {color: black;background-color: white;}#sk-container-id-1 pre{padding: 0;}#sk-container-id-1 div.sk-toggleable {background-color: white;}#sk-container-id-1 label.sk-toggleable__label {cursor: pointer;display: block;width: 100%;margin-bottom: 0;padding: 0.3em;box-sizing: border-box;text-align: center;}#sk-container-id-1 label.sk-toggleable__label-arrow:before {content: \"▸\";float: left;margin-right: 0.25em;color: #696969;}#sk-container-id-1 label.sk-toggleable__label-arrow:hover:before {color: black;}#sk-container-id-1 div.sk-estimator:hover label.sk-toggleable__label-arrow:before {color: black;}#sk-container-id-1 div.sk-toggleable__content {max-height: 0;max-width: 0;overflow: hidden;text-align: left;background-color: #f0f8ff;}#sk-container-id-1 div.sk-toggleable__content pre {margin: 0.2em;color: black;border-radius: 0.25em;background-color: #f0f8ff;}#sk-container-id-1 input.sk-toggleable__control:checked~div.sk-toggleable__content {max-height: 200px;max-width: 100%;overflow: auto;}#sk-container-id-1 input.sk-toggleable__control:checked~label.sk-toggleable__label-arrow:before {content: \"▾\";}#sk-container-id-1 div.sk-estimator input.sk-toggleable__control:checked~label.sk-toggleable__label {background-color: #d4ebff;}#sk-container-id-1 div.sk-label input.sk-toggleable__control:checked~label.sk-toggleable__label {background-color: #d4ebff;}#sk-container-id-1 input.sk-hidden--visually {border: 0;clip: rect(1px 1px 1px 1px);clip: rect(1px, 1px, 1px, 1px);height: 1px;margin: -1px;overflow: hidden;padding: 0;position: absolute;width: 1px;}#sk-container-id-1 div.sk-estimator {font-family: monospace;background-color: #f0f8ff;border: 1px dotted black;border-radius: 0.25em;box-sizing: border-box;margin-bottom: 0.5em;}#sk-container-id-1 div.sk-estimator:hover {background-color: #d4ebff;}#sk-container-id-1 div.sk-parallel-item::after {content: \"\";width: 100%;border-bottom: 1px solid gray;flex-grow: 1;}#sk-container-id-1 div.sk-label:hover label.sk-toggleable__label {background-color: #d4ebff;}#sk-container-id-1 div.sk-serial::before {content: \"\";position: absolute;border-left: 1px solid gray;box-sizing: border-box;top: 0;bottom: 0;left: 50%;z-index: 0;}#sk-container-id-1 div.sk-serial {display: flex;flex-direction: column;align-items: center;background-color: white;padding-right: 0.2em;padding-left: 0.2em;position: relative;}#sk-container-id-1 div.sk-item {position: relative;z-index: 1;}#sk-container-id-1 div.sk-parallel {display: flex;align-items: stretch;justify-content: center;background-color: white;position: relative;}#sk-container-id-1 div.sk-item::before, #sk-container-id-1 div.sk-parallel-item::before {content: \"\";position: absolute;border-left: 1px solid gray;box-sizing: border-box;top: 0;bottom: 0;left: 50%;z-index: -1;}#sk-container-id-1 div.sk-parallel-item {display: flex;flex-direction: column;z-index: 1;position: relative;background-color: white;}#sk-container-id-1 div.sk-parallel-item:first-child::after {align-self: flex-end;width: 50%;}#sk-container-id-1 div.sk-parallel-item:last-child::after {align-self: flex-start;width: 50%;}#sk-container-id-1 div.sk-parallel-item:only-child::after {width: 0;}#sk-container-id-1 div.sk-dashed-wrapped {border: 1px dashed gray;margin: 0 0.4em 0.5em 0.4em;box-sizing: border-box;padding-bottom: 0.4em;background-color: white;}#sk-container-id-1 div.sk-label label {font-family: monospace;font-weight: bold;display: inline-block;line-height: 1.2em;}#sk-container-id-1 div.sk-label-container {text-align: center;}#sk-container-id-1 div.sk-container {/* jupyter's `normalize.less` sets `[hidden] { display: none; }` but bootstrap.min.css set `[hidden] { display: none !important; }` so we also need the `!important` here to be able to override the default hidden behavior on the sphinx rendered scikit-learn.org. See: https://github.com/scikit-learn/scikit-learn/issues/21755 */display: inline-block !important;position: relative;}#sk-container-id-1 div.sk-text-repr-fallback {display: none;}</style><div id=\"sk-container-id-1\" class=\"sk-top-container\"><div class=\"sk-text-repr-fallback\"><pre>RandomizedSearchCV(estimator=Pipeline(steps=[(&#x27;hash_vec&#x27;, HashingVectorizer()),\n",
              "                                             (&#x27;logreg&#x27;, LogisticRegression())]),\n",
              "                   n_iter=30, n_jobs=-1,\n",
              "                   param_distributions=[{&#x27;hash_vec__lowercase&#x27;: [True, False],\n",
              "                                         &#x27;hash_vec__ngram_range&#x27;: [(1, 1),\n",
              "                                                                   (1, 2)],\n",
              "                                         &#x27;hash_vec__stop_words&#x27;: [&#x27;english&#x27;,\n",
              "                                                                  None],\n",
              "                                         &#x27;hash_vec__token_pattern&#x27;: [&#x27;(?u)\\\\b\\\\w\\\\w+\\\\b&#x27;,\n",
              "                                                                     &#x27;\\\\S+&#x27;,\n",
              "                                                                     &#x27;[^\\\\w\\\\s]+|\\\\b\\\\w+\\\\b&#x27;],\n",
              "                                         &#x27;logreg__C&#x27;: [0.1, 0.5, 1.0]}],\n",
              "                   random_state=42, scoring=&#x27;accuracy&#x27;)</pre><b>In a Jupyter environment, please rerun this cell to show the HTML representation or trust the notebook. <br />On GitHub, the HTML representation is unable to render, please try loading this page with nbviewer.org.</b></div><div class=\"sk-container\" hidden><div class=\"sk-item sk-dashed-wrapped\"><div class=\"sk-label-container\"><div class=\"sk-label sk-toggleable\"><input class=\"sk-toggleable__control sk-hidden--visually\" id=\"sk-estimator-id-1\" type=\"checkbox\" ><label for=\"sk-estimator-id-1\" class=\"sk-toggleable__label sk-toggleable__label-arrow\">RandomizedSearchCV</label><div class=\"sk-toggleable__content\"><pre>RandomizedSearchCV(estimator=Pipeline(steps=[(&#x27;hash_vec&#x27;, HashingVectorizer()),\n",
              "                                             (&#x27;logreg&#x27;, LogisticRegression())]),\n",
              "                   n_iter=30, n_jobs=-1,\n",
              "                   param_distributions=[{&#x27;hash_vec__lowercase&#x27;: [True, False],\n",
              "                                         &#x27;hash_vec__ngram_range&#x27;: [(1, 1),\n",
              "                                                                   (1, 2)],\n",
              "                                         &#x27;hash_vec__stop_words&#x27;: [&#x27;english&#x27;,\n",
              "                                                                  None],\n",
              "                                         &#x27;hash_vec__token_pattern&#x27;: [&#x27;(?u)\\\\b\\\\w\\\\w+\\\\b&#x27;,\n",
              "                                                                     &#x27;\\\\S+&#x27;,\n",
              "                                                                     &#x27;[^\\\\w\\\\s]+|\\\\b\\\\w+\\\\b&#x27;],\n",
              "                                         &#x27;logreg__C&#x27;: [0.1, 0.5, 1.0]}],\n",
              "                   random_state=42, scoring=&#x27;accuracy&#x27;)</pre></div></div></div><div class=\"sk-parallel\"><div class=\"sk-parallel-item\"><div class=\"sk-item\"><div class=\"sk-label-container\"><div class=\"sk-label sk-toggleable\"><input class=\"sk-toggleable__control sk-hidden--visually\" id=\"sk-estimator-id-2\" type=\"checkbox\" ><label for=\"sk-estimator-id-2\" class=\"sk-toggleable__label sk-toggleable__label-arrow\">estimator: Pipeline</label><div class=\"sk-toggleable__content\"><pre>Pipeline(steps=[(&#x27;hash_vec&#x27;, HashingVectorizer()),\n",
              "                (&#x27;logreg&#x27;, LogisticRegression())])</pre></div></div></div><div class=\"sk-serial\"><div class=\"sk-item\"><div class=\"sk-serial\"><div class=\"sk-item\"><div class=\"sk-estimator sk-toggleable\"><input class=\"sk-toggleable__control sk-hidden--visually\" id=\"sk-estimator-id-3\" type=\"checkbox\" ><label for=\"sk-estimator-id-3\" class=\"sk-toggleable__label sk-toggleable__label-arrow\">HashingVectorizer</label><div class=\"sk-toggleable__content\"><pre>HashingVectorizer()</pre></div></div></div><div class=\"sk-item\"><div class=\"sk-estimator sk-toggleable\"><input class=\"sk-toggleable__control sk-hidden--visually\" id=\"sk-estimator-id-4\" type=\"checkbox\" ><label for=\"sk-estimator-id-4\" class=\"sk-toggleable__label sk-toggleable__label-arrow\">LogisticRegression</label><div class=\"sk-toggleable__content\"><pre>LogisticRegression()</pre></div></div></div></div></div></div></div></div></div></div></div></div>"
            ]
          },
          "metadata": {},
          "execution_count": 22
        }
      ]
    },
    {
      "cell_type": "code",
      "source": [
        "binary_classifier_rs.best_params_"
      ],
      "metadata": {
        "colab": {
          "base_uri": "https://localhost:8080/"
        },
        "outputId": "f7d8f34e-9ece-4c95-ca45-14a91f1a86eb",
        "id": "Zt7XtyLhkssw"
      },
      "execution_count": null,
      "outputs": [
        {
          "output_type": "execute_result",
          "data": {
            "text/plain": [
              "{'logreg__C': 1.0,\n",
              " 'hash_vec__token_pattern': '(?u)\\\\b\\\\w\\\\w+\\\\b',\n",
              " 'hash_vec__stop_words': 'english',\n",
              " 'hash_vec__ngram_range': (1, 2),\n",
              " 'hash_vec__lowercase': False}"
            ]
          },
          "metadata": {},
          "execution_count": 25
        }
      ]
    },
    {
      "cell_type": "code",
      "source": [
        "binary_classifier_rs.best_score_"
      ],
      "metadata": {
        "colab": {
          "base_uri": "https://localhost:8080/"
        },
        "outputId": "8e7a8cf5-b456-4ac6-aeed-9849f873e65d",
        "id": "RCC2AJqKkssw"
      },
      "execution_count": null,
      "outputs": [
        {
          "output_type": "execute_result",
          "data": {
            "text/plain": [
              "0.8678799999999999"
            ]
          },
          "metadata": {},
          "execution_count": 23
        }
      ]
    },
    {
      "cell_type": "code",
      "source": [
        "accuracy_score(test_df.sentiment,\n",
        "               binary_classifier_rs.predict(test_df.text))"
      ],
      "metadata": {
        "colab": {
          "base_uri": "https://localhost:8080/"
        },
        "id": "7sipjy8ES8C0",
        "outputId": "4476f86f-6af6-47a4-f130-25325008dac1"
      },
      "execution_count": null,
      "outputs": [
        {
          "output_type": "execute_result",
          "data": {
            "text/plain": [
              "0.86836"
            ]
          },
          "metadata": {},
          "execution_count": 24
        }
      ]
    },
    {
      "cell_type": "markdown",
      "source": [
        "# Fasttext embeddings"
      ],
      "metadata": {
        "id": "JM4Sa8g4Kv-m"
      }
    },
    {
      "cell_type": "code",
      "source": [
        "!pip install fasttext"
      ],
      "metadata": {
        "colab": {
          "base_uri": "https://localhost:8080/"
        },
        "outputId": "314a9a4c-88e7-47d9-e095-1e6baf71664f",
        "id": "MkmnwEZTKv-n"
      },
      "execution_count": null,
      "outputs": [
        {
          "output_type": "stream",
          "name": "stdout",
          "text": [
            "Collecting fasttext\n",
            "  Downloading fasttext-0.9.2.tar.gz (68 kB)\n",
            "\u001b[?25l     \u001b[90m━━━━━━━━━━━━━━━━━━━━━━━━━━━━━━━━━━━━━━━━\u001b[0m \u001b[32m0.0/68.8 kB\u001b[0m \u001b[31m?\u001b[0m eta \u001b[36m-:--:--\u001b[0m\r\u001b[2K     \u001b[90m━━━━━━━━━━━━━━━━━━━━━━━━━━━━━━━━━━━━━━━━\u001b[0m \u001b[32m68.8/68.8 kB\u001b[0m \u001b[31m4.6 MB/s\u001b[0m eta \u001b[36m0:00:00\u001b[0m\n",
            "\u001b[?25h  Preparing metadata (setup.py) ... \u001b[?25l\u001b[?25hdone\n",
            "Collecting pybind11>=2.2 (from fasttext)\n",
            "  Using cached pybind11-2.10.4-py3-none-any.whl (222 kB)\n",
            "Requirement already satisfied: setuptools>=0.7.0 in /usr/local/lib/python3.10/dist-packages (from fasttext) (67.7.2)\n",
            "Requirement already satisfied: numpy in /usr/local/lib/python3.10/dist-packages (from fasttext) (1.22.4)\n",
            "Building wheels for collected packages: fasttext\n",
            "  Building wheel for fasttext (setup.py) ... \u001b[?25l\u001b[?25hdone\n",
            "  Created wheel for fasttext: filename=fasttext-0.9.2-cp310-cp310-linux_x86_64.whl size=4393181 sha256=bf5e86d9a15f5b511b1efaf8b4dee49dc1c639bb22f5956ebf25d71ea1301c7e\n",
            "  Stored in directory: /root/.cache/pip/wheels/a5/13/75/f811c84a8ab36eedbaef977a6a58a98990e8e0f1967f98f394\n",
            "Successfully built fasttext\n",
            "Installing collected packages: pybind11, fasttext\n",
            "Successfully installed fasttext-0.9.2 pybind11-2.10.4\n"
          ]
        }
      ]
    },
    {
      "cell_type": "code",
      "source": [
        "import fasttext\n",
        "from fasttext.FastText import load_model"
      ],
      "metadata": {
        "id": "2m9wk4tMKv-n"
      },
      "execution_count": null,
      "outputs": []
    },
    {
      "cell_type": "markdown",
      "source": [
        "Prepare data in the format reqired by fasttext classifier"
      ],
      "metadata": {
        "id": "VegSyMCZKv-n"
      }
    },
    {
      "cell_type": "code",
      "source": [
        "train_train_df, train_eval_df = train_test_split(train_df, random_state=SEED)"
      ],
      "metadata": {
        "id": "-u1TMt-MKv-o"
      },
      "execution_count": null,
      "outputs": []
    },
    {
      "cell_type": "markdown",
      "source": [
        "Data for hyperparameters tuning"
      ],
      "metadata": {
        "id": "ZEA-WU3BKv-o"
      }
    },
    {
      "cell_type": "code",
      "source": [
        "fast_train = pd.DataFrame({\"text\": np.array(train_train_df.text.str.replace(\"\\n\", \" \")),\n",
        "                           \"rating\": np.array(train_train_df.rating.map(lambda x: f\"__rating__{x}\")),\n",
        "                           \"sentiment\": np.array(train_train_df.sentiment.map(lambda x: f\"__sentiment__{x}\"))\n",
        "                           })\n",
        "\n",
        "\n",
        "fast_eval = pd.DataFrame({\n",
        "                         \"text\": np.array(train_eval_df.text.str.replace(\"\\n\", \" \")),\n",
        "                         \"rating\": np.array(train_eval_df.rating.map(lambda x: f\"__rating__{x}\")),\n",
        "                         \"sentiment\": np.array(train_eval_df.sentiment.map(lambda x: f\"__sentiment__{x}\"))\n",
        "                         })"
      ],
      "metadata": {
        "id": "dGxX2OuCKv-o"
      },
      "execution_count": null,
      "outputs": []
    },
    {
      "cell_type": "code",
      "source": [
        "fast_train.to_csv(\"train_data\", index=False, header=False, sep=\" \")\n",
        "fast_eval.to_csv(\"eval_data\", index=False, header=False, sep=\" \")"
      ],
      "metadata": {
        "id": "joqlTBZJKv-o"
      },
      "execution_count": null,
      "outputs": []
    },
    {
      "cell_type": "markdown",
      "source": [
        "## Rating"
      ],
      "metadata": {
        "id": "InlwRgPlnxuo"
      }
    },
    {
      "cell_type": "code",
      "source": [
        "fasttext_clf = fasttext.train_supervised(input=\"train_data\",\n",
        "                                         autotuneValidationFile=\"eval_data\",\n",
        "                                         autotuneDuration=600,\n",
        "                                         label=\"__rating__\")"
      ],
      "metadata": {
        "id": "9-hve7O1Kv-q"
      },
      "execution_count": null,
      "outputs": []
    },
    {
      "cell_type": "code",
      "source": [
        "pred_labels = test_df[\"text\"].map(lambda x: fasttext_clf.predict(x)[0][0])\n",
        "y_pred = [int(re.findall(\"\\d+\", i)[0]) for i in pred_labels]\n",
        "accuracy_score(y_pred, test_df[\"rating\"])"
      ],
      "metadata": {
        "colab": {
          "base_uri": "https://localhost:8080/"
        },
        "outputId": "93a9193c-b986-4226-8d6e-84e206fd7449",
        "id": "BrVvOQovKv-q"
      },
      "execution_count": null,
      "outputs": [
        {
          "output_type": "execute_result",
          "data": {
            "text/plain": [
              "0.34548"
            ]
          },
          "metadata": {},
          "execution_count": 41
        }
      ]
    },
    {
      "cell_type": "markdown",
      "source": [
        "## Sentiment"
      ],
      "metadata": {
        "id": "lgcD75w-w0Iv"
      }
    },
    {
      "cell_type": "code",
      "source": [
        "fasttext_clf = fasttext.train_supervised(input=\"train_data\",\n",
        "                                         autotuneValidationFile=\"eval_data\",\n",
        "                                         autotuneDuration=600,\n",
        "                                         label=\"__sentiment__\")"
      ],
      "metadata": {
        "id": "VP6Qu79RKv-r"
      },
      "execution_count": null,
      "outputs": []
    },
    {
      "cell_type": "code",
      "source": [
        "pred_labels = test_df[\"text\"].map(lambda x: fasttext_clf.predict(x)[0][0])\n",
        "y_pred = [int(re.findall(\"\\d+\", i)[0]) for i in pred_labels]\n",
        "accuracy_score(y_pred, test_df[\"sentiment\"])"
      ],
      "metadata": {
        "colab": {
          "base_uri": "https://localhost:8080/"
        },
        "id": "saTve5-Zm0nw",
        "outputId": "c16588e2-a86c-4be4-dad2-f733d8017102"
      },
      "execution_count": null,
      "outputs": [
        {
          "output_type": "execute_result",
          "data": {
            "text/plain": [
              "0.8532"
            ]
          },
          "metadata": {},
          "execution_count": 39
        }
      ]
    },
    {
      "cell_type": "markdown",
      "source": [
        "# Preparation for deployment"
      ],
      "metadata": {
        "id": "9Dz0PBr7GhiO"
      }
    },
    {
      "cell_type": "markdown",
      "source": [
        "## Train model on the whole dataset"
      ],
      "metadata": {
        "id": "gQ_Zp501k8Sk"
      }
    },
    {
      "cell_type": "markdown",
      "source": [
        "I\"ve chosen HashVectorizer + LogReg pipline for the deployment"
      ],
      "metadata": {
        "id": "Xw1M5K4v_Z1o"
      }
    },
    {
      "cell_type": "markdown",
      "source": [
        "### Rating"
      ],
      "metadata": {
        "id": "lZlzX3jJ-sxY"
      }
    },
    {
      "cell_type": "code",
      "source": [
        "rating_predictor.set_params(**rating_predictor_rs.best_params_)"
      ],
      "metadata": {
        "colab": {
          "base_uri": "https://localhost:8080/",
          "height": 126
        },
        "outputId": "b26191fb-e6ae-4aeb-ef7a-c7a8ef6f1725",
        "id": "rQJEpbw19Z-2"
      },
      "execution_count": null,
      "outputs": [
        {
          "output_type": "execute_result",
          "data": {
            "text/plain": [
              "Pipeline(steps=[('hash_vec',\n",
              "                 HashingVectorizer(lowercase=False, ngram_range=(1, 2),\n",
              "                                   stop_words='english',\n",
              "                                   token_pattern='[^\\\\w\\\\s]+|\\\\b\\\\w+\\\\b')),\n",
              "                ('logreg', LogisticRegression())])"
            ],
            "text/html": [
              "<style>#sk-container-id-2 {color: black;background-color: white;}#sk-container-id-2 pre{padding: 0;}#sk-container-id-2 div.sk-toggleable {background-color: white;}#sk-container-id-2 label.sk-toggleable__label {cursor: pointer;display: block;width: 100%;margin-bottom: 0;padding: 0.3em;box-sizing: border-box;text-align: center;}#sk-container-id-2 label.sk-toggleable__label-arrow:before {content: \"▸\";float: left;margin-right: 0.25em;color: #696969;}#sk-container-id-2 label.sk-toggleable__label-arrow:hover:before {color: black;}#sk-container-id-2 div.sk-estimator:hover label.sk-toggleable__label-arrow:before {color: black;}#sk-container-id-2 div.sk-toggleable__content {max-height: 0;max-width: 0;overflow: hidden;text-align: left;background-color: #f0f8ff;}#sk-container-id-2 div.sk-toggleable__content pre {margin: 0.2em;color: black;border-radius: 0.25em;background-color: #f0f8ff;}#sk-container-id-2 input.sk-toggleable__control:checked~div.sk-toggleable__content {max-height: 200px;max-width: 100%;overflow: auto;}#sk-container-id-2 input.sk-toggleable__control:checked~label.sk-toggleable__label-arrow:before {content: \"▾\";}#sk-container-id-2 div.sk-estimator input.sk-toggleable__control:checked~label.sk-toggleable__label {background-color: #d4ebff;}#sk-container-id-2 div.sk-label input.sk-toggleable__control:checked~label.sk-toggleable__label {background-color: #d4ebff;}#sk-container-id-2 input.sk-hidden--visually {border: 0;clip: rect(1px 1px 1px 1px);clip: rect(1px, 1px, 1px, 1px);height: 1px;margin: -1px;overflow: hidden;padding: 0;position: absolute;width: 1px;}#sk-container-id-2 div.sk-estimator {font-family: monospace;background-color: #f0f8ff;border: 1px dotted black;border-radius: 0.25em;box-sizing: border-box;margin-bottom: 0.5em;}#sk-container-id-2 div.sk-estimator:hover {background-color: #d4ebff;}#sk-container-id-2 div.sk-parallel-item::after {content: \"\";width: 100%;border-bottom: 1px solid gray;flex-grow: 1;}#sk-container-id-2 div.sk-label:hover label.sk-toggleable__label {background-color: #d4ebff;}#sk-container-id-2 div.sk-serial::before {content: \"\";position: absolute;border-left: 1px solid gray;box-sizing: border-box;top: 0;bottom: 0;left: 50%;z-index: 0;}#sk-container-id-2 div.sk-serial {display: flex;flex-direction: column;align-items: center;background-color: white;padding-right: 0.2em;padding-left: 0.2em;position: relative;}#sk-container-id-2 div.sk-item {position: relative;z-index: 1;}#sk-container-id-2 div.sk-parallel {display: flex;align-items: stretch;justify-content: center;background-color: white;position: relative;}#sk-container-id-2 div.sk-item::before, #sk-container-id-2 div.sk-parallel-item::before {content: \"\";position: absolute;border-left: 1px solid gray;box-sizing: border-box;top: 0;bottom: 0;left: 50%;z-index: -1;}#sk-container-id-2 div.sk-parallel-item {display: flex;flex-direction: column;z-index: 1;position: relative;background-color: white;}#sk-container-id-2 div.sk-parallel-item:first-child::after {align-self: flex-end;width: 50%;}#sk-container-id-2 div.sk-parallel-item:last-child::after {align-self: flex-start;width: 50%;}#sk-container-id-2 div.sk-parallel-item:only-child::after {width: 0;}#sk-container-id-2 div.sk-dashed-wrapped {border: 1px dashed gray;margin: 0 0.4em 0.5em 0.4em;box-sizing: border-box;padding-bottom: 0.4em;background-color: white;}#sk-container-id-2 div.sk-label label {font-family: monospace;font-weight: bold;display: inline-block;line-height: 1.2em;}#sk-container-id-2 div.sk-label-container {text-align: center;}#sk-container-id-2 div.sk-container {/* jupyter's `normalize.less` sets `[hidden] { display: none; }` but bootstrap.min.css set `[hidden] { display: none !important; }` so we also need the `!important` here to be able to override the default hidden behavior on the sphinx rendered scikit-learn.org. See: https://github.com/scikit-learn/scikit-learn/issues/21755 */display: inline-block !important;position: relative;}#sk-container-id-2 div.sk-text-repr-fallback {display: none;}</style><div id=\"sk-container-id-2\" class=\"sk-top-container\"><div class=\"sk-text-repr-fallback\"><pre>Pipeline(steps=[(&#x27;hash_vec&#x27;,\n",
              "                 HashingVectorizer(lowercase=False, ngram_range=(1, 2),\n",
              "                                   stop_words=&#x27;english&#x27;,\n",
              "                                   token_pattern=&#x27;[^\\\\w\\\\s]+|\\\\b\\\\w+\\\\b&#x27;)),\n",
              "                (&#x27;logreg&#x27;, LogisticRegression())])</pre><b>In a Jupyter environment, please rerun this cell to show the HTML representation or trust the notebook. <br />On GitHub, the HTML representation is unable to render, please try loading this page with nbviewer.org.</b></div><div class=\"sk-container\" hidden><div class=\"sk-item sk-dashed-wrapped\"><div class=\"sk-label-container\"><div class=\"sk-label sk-toggleable\"><input class=\"sk-toggleable__control sk-hidden--visually\" id=\"sk-estimator-id-5\" type=\"checkbox\" ><label for=\"sk-estimator-id-5\" class=\"sk-toggleable__label sk-toggleable__label-arrow\">Pipeline</label><div class=\"sk-toggleable__content\"><pre>Pipeline(steps=[(&#x27;hash_vec&#x27;,\n",
              "                 HashingVectorizer(lowercase=False, ngram_range=(1, 2),\n",
              "                                   stop_words=&#x27;english&#x27;,\n",
              "                                   token_pattern=&#x27;[^\\\\w\\\\s]+|\\\\b\\\\w+\\\\b&#x27;)),\n",
              "                (&#x27;logreg&#x27;, LogisticRegression())])</pre></div></div></div><div class=\"sk-serial\"><div class=\"sk-item\"><div class=\"sk-estimator sk-toggleable\"><input class=\"sk-toggleable__control sk-hidden--visually\" id=\"sk-estimator-id-6\" type=\"checkbox\" ><label for=\"sk-estimator-id-6\" class=\"sk-toggleable__label sk-toggleable__label-arrow\">HashingVectorizer</label><div class=\"sk-toggleable__content\"><pre>HashingVectorizer(lowercase=False, ngram_range=(1, 2), stop_words=&#x27;english&#x27;,\n",
              "                  token_pattern=&#x27;[^\\\\w\\\\s]+|\\\\b\\\\w+\\\\b&#x27;)</pre></div></div></div><div class=\"sk-item\"><div class=\"sk-estimator sk-toggleable\"><input class=\"sk-toggleable__control sk-hidden--visually\" id=\"sk-estimator-id-7\" type=\"checkbox\" ><label for=\"sk-estimator-id-7\" class=\"sk-toggleable__label sk-toggleable__label-arrow\">LogisticRegression</label><div class=\"sk-toggleable__content\"><pre>LogisticRegression()</pre></div></div></div></div></div></div></div>"
            ]
          },
          "metadata": {},
          "execution_count": 19
        }
      ]
    },
    {
      "cell_type": "code",
      "source": [
        "rating_predictor.fit(pd.concat([train_df, test_df]).text,\n",
        "                     pd.concat([train_df, test_df]).rating)"
      ],
      "metadata": {
        "colab": {
          "base_uri": "https://localhost:8080/",
          "height": 285
        },
        "outputId": "132ee0d2-5605-42bb-a95e-648c941afea6",
        "id": "S0P9ysW99Z-2"
      },
      "execution_count": null,
      "outputs": [
        {
          "output_type": "stream",
          "name": "stderr",
          "text": [
            "/usr/local/lib/python3.10/dist-packages/sklearn/linear_model/_logistic.py:458: ConvergenceWarning: lbfgs failed to converge (status=1):\n",
            "STOP: TOTAL NO. of ITERATIONS REACHED LIMIT.\n",
            "\n",
            "Increase the number of iterations (max_iter) or scale the data as shown in:\n",
            "    https://scikit-learn.org/stable/modules/preprocessing.html\n",
            "Please also refer to the documentation for alternative solver options:\n",
            "    https://scikit-learn.org/stable/modules/linear_model.html#logistic-regression\n",
            "  n_iter_i = _check_optimize_result(\n"
          ]
        },
        {
          "output_type": "execute_result",
          "data": {
            "text/plain": [
              "Pipeline(steps=[('hash_vec',\n",
              "                 HashingVectorizer(lowercase=False, ngram_range=(1, 2),\n",
              "                                   stop_words='english',\n",
              "                                   token_pattern='[^\\\\w\\\\s]+|\\\\b\\\\w+\\\\b')),\n",
              "                ('logreg', LogisticRegression())])"
            ],
            "text/html": [
              "<style>#sk-container-id-3 {color: black;background-color: white;}#sk-container-id-3 pre{padding: 0;}#sk-container-id-3 div.sk-toggleable {background-color: white;}#sk-container-id-3 label.sk-toggleable__label {cursor: pointer;display: block;width: 100%;margin-bottom: 0;padding: 0.3em;box-sizing: border-box;text-align: center;}#sk-container-id-3 label.sk-toggleable__label-arrow:before {content: \"▸\";float: left;margin-right: 0.25em;color: #696969;}#sk-container-id-3 label.sk-toggleable__label-arrow:hover:before {color: black;}#sk-container-id-3 div.sk-estimator:hover label.sk-toggleable__label-arrow:before {color: black;}#sk-container-id-3 div.sk-toggleable__content {max-height: 0;max-width: 0;overflow: hidden;text-align: left;background-color: #f0f8ff;}#sk-container-id-3 div.sk-toggleable__content pre {margin: 0.2em;color: black;border-radius: 0.25em;background-color: #f0f8ff;}#sk-container-id-3 input.sk-toggleable__control:checked~div.sk-toggleable__content {max-height: 200px;max-width: 100%;overflow: auto;}#sk-container-id-3 input.sk-toggleable__control:checked~label.sk-toggleable__label-arrow:before {content: \"▾\";}#sk-container-id-3 div.sk-estimator input.sk-toggleable__control:checked~label.sk-toggleable__label {background-color: #d4ebff;}#sk-container-id-3 div.sk-label input.sk-toggleable__control:checked~label.sk-toggleable__label {background-color: #d4ebff;}#sk-container-id-3 input.sk-hidden--visually {border: 0;clip: rect(1px 1px 1px 1px);clip: rect(1px, 1px, 1px, 1px);height: 1px;margin: -1px;overflow: hidden;padding: 0;position: absolute;width: 1px;}#sk-container-id-3 div.sk-estimator {font-family: monospace;background-color: #f0f8ff;border: 1px dotted black;border-radius: 0.25em;box-sizing: border-box;margin-bottom: 0.5em;}#sk-container-id-3 div.sk-estimator:hover {background-color: #d4ebff;}#sk-container-id-3 div.sk-parallel-item::after {content: \"\";width: 100%;border-bottom: 1px solid gray;flex-grow: 1;}#sk-container-id-3 div.sk-label:hover label.sk-toggleable__label {background-color: #d4ebff;}#sk-container-id-3 div.sk-serial::before {content: \"\";position: absolute;border-left: 1px solid gray;box-sizing: border-box;top: 0;bottom: 0;left: 50%;z-index: 0;}#sk-container-id-3 div.sk-serial {display: flex;flex-direction: column;align-items: center;background-color: white;padding-right: 0.2em;padding-left: 0.2em;position: relative;}#sk-container-id-3 div.sk-item {position: relative;z-index: 1;}#sk-container-id-3 div.sk-parallel {display: flex;align-items: stretch;justify-content: center;background-color: white;position: relative;}#sk-container-id-3 div.sk-item::before, #sk-container-id-3 div.sk-parallel-item::before {content: \"\";position: absolute;border-left: 1px solid gray;box-sizing: border-box;top: 0;bottom: 0;left: 50%;z-index: -1;}#sk-container-id-3 div.sk-parallel-item {display: flex;flex-direction: column;z-index: 1;position: relative;background-color: white;}#sk-container-id-3 div.sk-parallel-item:first-child::after {align-self: flex-end;width: 50%;}#sk-container-id-3 div.sk-parallel-item:last-child::after {align-self: flex-start;width: 50%;}#sk-container-id-3 div.sk-parallel-item:only-child::after {width: 0;}#sk-container-id-3 div.sk-dashed-wrapped {border: 1px dashed gray;margin: 0 0.4em 0.5em 0.4em;box-sizing: border-box;padding-bottom: 0.4em;background-color: white;}#sk-container-id-3 div.sk-label label {font-family: monospace;font-weight: bold;display: inline-block;line-height: 1.2em;}#sk-container-id-3 div.sk-label-container {text-align: center;}#sk-container-id-3 div.sk-container {/* jupyter's `normalize.less` sets `[hidden] { display: none; }` but bootstrap.min.css set `[hidden] { display: none !important; }` so we also need the `!important` here to be able to override the default hidden behavior on the sphinx rendered scikit-learn.org. See: https://github.com/scikit-learn/scikit-learn/issues/21755 */display: inline-block !important;position: relative;}#sk-container-id-3 div.sk-text-repr-fallback {display: none;}</style><div id=\"sk-container-id-3\" class=\"sk-top-container\"><div class=\"sk-text-repr-fallback\"><pre>Pipeline(steps=[(&#x27;hash_vec&#x27;,\n",
              "                 HashingVectorizer(lowercase=False, ngram_range=(1, 2),\n",
              "                                   stop_words=&#x27;english&#x27;,\n",
              "                                   token_pattern=&#x27;[^\\\\w\\\\s]+|\\\\b\\\\w+\\\\b&#x27;)),\n",
              "                (&#x27;logreg&#x27;, LogisticRegression())])</pre><b>In a Jupyter environment, please rerun this cell to show the HTML representation or trust the notebook. <br />On GitHub, the HTML representation is unable to render, please try loading this page with nbviewer.org.</b></div><div class=\"sk-container\" hidden><div class=\"sk-item sk-dashed-wrapped\"><div class=\"sk-label-container\"><div class=\"sk-label sk-toggleable\"><input class=\"sk-toggleable__control sk-hidden--visually\" id=\"sk-estimator-id-8\" type=\"checkbox\" ><label for=\"sk-estimator-id-8\" class=\"sk-toggleable__label sk-toggleable__label-arrow\">Pipeline</label><div class=\"sk-toggleable__content\"><pre>Pipeline(steps=[(&#x27;hash_vec&#x27;,\n",
              "                 HashingVectorizer(lowercase=False, ngram_range=(1, 2),\n",
              "                                   stop_words=&#x27;english&#x27;,\n",
              "                                   token_pattern=&#x27;[^\\\\w\\\\s]+|\\\\b\\\\w+\\\\b&#x27;)),\n",
              "                (&#x27;logreg&#x27;, LogisticRegression())])</pre></div></div></div><div class=\"sk-serial\"><div class=\"sk-item\"><div class=\"sk-estimator sk-toggleable\"><input class=\"sk-toggleable__control sk-hidden--visually\" id=\"sk-estimator-id-9\" type=\"checkbox\" ><label for=\"sk-estimator-id-9\" class=\"sk-toggleable__label sk-toggleable__label-arrow\">HashingVectorizer</label><div class=\"sk-toggleable__content\"><pre>HashingVectorizer(lowercase=False, ngram_range=(1, 2), stop_words=&#x27;english&#x27;,\n",
              "                  token_pattern=&#x27;[^\\\\w\\\\s]+|\\\\b\\\\w+\\\\b&#x27;)</pre></div></div></div><div class=\"sk-item\"><div class=\"sk-estimator sk-toggleable\"><input class=\"sk-toggleable__control sk-hidden--visually\" id=\"sk-estimator-id-10\" type=\"checkbox\" ><label for=\"sk-estimator-id-10\" class=\"sk-toggleable__label sk-toggleable__label-arrow\">LogisticRegression</label><div class=\"sk-toggleable__content\"><pre>LogisticRegression()</pre></div></div></div></div></div></div></div>"
            ]
          },
          "metadata": {},
          "execution_count": 20
        }
      ]
    },
    {
      "cell_type": "markdown",
      "source": [
        "### Sentiment"
      ],
      "metadata": {
        "id": "da2H1_iGlGmC"
      }
    },
    {
      "cell_type": "code",
      "source": [
        "binary_classifier.set_params(**binary_classifier_rs.best_params_)"
      ],
      "metadata": {
        "colab": {
          "base_uri": "https://localhost:8080/",
          "height": 126
        },
        "outputId": "065ff00c-c9b8-49f5-9723-79ffea5cec92",
        "id": "Hv703bTdkssw"
      },
      "execution_count": null,
      "outputs": [
        {
          "output_type": "execute_result",
          "data": {
            "text/plain": [
              "Pipeline(steps=[('hash_vec',\n",
              "                 HashingVectorizer(lowercase=False, ngram_range=(1, 2),\n",
              "                                   stop_words='english')),\n",
              "                ('logreg', LogisticRegression())])"
            ],
            "text/html": [
              "<style>#sk-container-id-2 {color: black;background-color: white;}#sk-container-id-2 pre{padding: 0;}#sk-container-id-2 div.sk-toggleable {background-color: white;}#sk-container-id-2 label.sk-toggleable__label {cursor: pointer;display: block;width: 100%;margin-bottom: 0;padding: 0.3em;box-sizing: border-box;text-align: center;}#sk-container-id-2 label.sk-toggleable__label-arrow:before {content: \"▸\";float: left;margin-right: 0.25em;color: #696969;}#sk-container-id-2 label.sk-toggleable__label-arrow:hover:before {color: black;}#sk-container-id-2 div.sk-estimator:hover label.sk-toggleable__label-arrow:before {color: black;}#sk-container-id-2 div.sk-toggleable__content {max-height: 0;max-width: 0;overflow: hidden;text-align: left;background-color: #f0f8ff;}#sk-container-id-2 div.sk-toggleable__content pre {margin: 0.2em;color: black;border-radius: 0.25em;background-color: #f0f8ff;}#sk-container-id-2 input.sk-toggleable__control:checked~div.sk-toggleable__content {max-height: 200px;max-width: 100%;overflow: auto;}#sk-container-id-2 input.sk-toggleable__control:checked~label.sk-toggleable__label-arrow:before {content: \"▾\";}#sk-container-id-2 div.sk-estimator input.sk-toggleable__control:checked~label.sk-toggleable__label {background-color: #d4ebff;}#sk-container-id-2 div.sk-label input.sk-toggleable__control:checked~label.sk-toggleable__label {background-color: #d4ebff;}#sk-container-id-2 input.sk-hidden--visually {border: 0;clip: rect(1px 1px 1px 1px);clip: rect(1px, 1px, 1px, 1px);height: 1px;margin: -1px;overflow: hidden;padding: 0;position: absolute;width: 1px;}#sk-container-id-2 div.sk-estimator {font-family: monospace;background-color: #f0f8ff;border: 1px dotted black;border-radius: 0.25em;box-sizing: border-box;margin-bottom: 0.5em;}#sk-container-id-2 div.sk-estimator:hover {background-color: #d4ebff;}#sk-container-id-2 div.sk-parallel-item::after {content: \"\";width: 100%;border-bottom: 1px solid gray;flex-grow: 1;}#sk-container-id-2 div.sk-label:hover label.sk-toggleable__label {background-color: #d4ebff;}#sk-container-id-2 div.sk-serial::before {content: \"\";position: absolute;border-left: 1px solid gray;box-sizing: border-box;top: 0;bottom: 0;left: 50%;z-index: 0;}#sk-container-id-2 div.sk-serial {display: flex;flex-direction: column;align-items: center;background-color: white;padding-right: 0.2em;padding-left: 0.2em;position: relative;}#sk-container-id-2 div.sk-item {position: relative;z-index: 1;}#sk-container-id-2 div.sk-parallel {display: flex;align-items: stretch;justify-content: center;background-color: white;position: relative;}#sk-container-id-2 div.sk-item::before, #sk-container-id-2 div.sk-parallel-item::before {content: \"\";position: absolute;border-left: 1px solid gray;box-sizing: border-box;top: 0;bottom: 0;left: 50%;z-index: -1;}#sk-container-id-2 div.sk-parallel-item {display: flex;flex-direction: column;z-index: 1;position: relative;background-color: white;}#sk-container-id-2 div.sk-parallel-item:first-child::after {align-self: flex-end;width: 50%;}#sk-container-id-2 div.sk-parallel-item:last-child::after {align-self: flex-start;width: 50%;}#sk-container-id-2 div.sk-parallel-item:only-child::after {width: 0;}#sk-container-id-2 div.sk-dashed-wrapped {border: 1px dashed gray;margin: 0 0.4em 0.5em 0.4em;box-sizing: border-box;padding-bottom: 0.4em;background-color: white;}#sk-container-id-2 div.sk-label label {font-family: monospace;font-weight: bold;display: inline-block;line-height: 1.2em;}#sk-container-id-2 div.sk-label-container {text-align: center;}#sk-container-id-2 div.sk-container {/* jupyter's `normalize.less` sets `[hidden] { display: none; }` but bootstrap.min.css set `[hidden] { display: none !important; }` so we also need the `!important` here to be able to override the default hidden behavior on the sphinx rendered scikit-learn.org. See: https://github.com/scikit-learn/scikit-learn/issues/21755 */display: inline-block !important;position: relative;}#sk-container-id-2 div.sk-text-repr-fallback {display: none;}</style><div id=\"sk-container-id-2\" class=\"sk-top-container\"><div class=\"sk-text-repr-fallback\"><pre>Pipeline(steps=[(&#x27;hash_vec&#x27;,\n",
              "                 HashingVectorizer(lowercase=False, ngram_range=(1, 2),\n",
              "                                   stop_words=&#x27;english&#x27;)),\n",
              "                (&#x27;logreg&#x27;, LogisticRegression())])</pre><b>In a Jupyter environment, please rerun this cell to show the HTML representation or trust the notebook. <br />On GitHub, the HTML representation is unable to render, please try loading this page with nbviewer.org.</b></div><div class=\"sk-container\" hidden><div class=\"sk-item sk-dashed-wrapped\"><div class=\"sk-label-container\"><div class=\"sk-label sk-toggleable\"><input class=\"sk-toggleable__control sk-hidden--visually\" id=\"sk-estimator-id-5\" type=\"checkbox\" ><label for=\"sk-estimator-id-5\" class=\"sk-toggleable__label sk-toggleable__label-arrow\">Pipeline</label><div class=\"sk-toggleable__content\"><pre>Pipeline(steps=[(&#x27;hash_vec&#x27;,\n",
              "                 HashingVectorizer(lowercase=False, ngram_range=(1, 2),\n",
              "                                   stop_words=&#x27;english&#x27;)),\n",
              "                (&#x27;logreg&#x27;, LogisticRegression())])</pre></div></div></div><div class=\"sk-serial\"><div class=\"sk-item\"><div class=\"sk-estimator sk-toggleable\"><input class=\"sk-toggleable__control sk-hidden--visually\" id=\"sk-estimator-id-6\" type=\"checkbox\" ><label for=\"sk-estimator-id-6\" class=\"sk-toggleable__label sk-toggleable__label-arrow\">HashingVectorizer</label><div class=\"sk-toggleable__content\"><pre>HashingVectorizer(lowercase=False, ngram_range=(1, 2), stop_words=&#x27;english&#x27;)</pre></div></div></div><div class=\"sk-item\"><div class=\"sk-estimator sk-toggleable\"><input class=\"sk-toggleable__control sk-hidden--visually\" id=\"sk-estimator-id-7\" type=\"checkbox\" ><label for=\"sk-estimator-id-7\" class=\"sk-toggleable__label sk-toggleable__label-arrow\">LogisticRegression</label><div class=\"sk-toggleable__content\"><pre>LogisticRegression()</pre></div></div></div></div></div></div></div>"
            ]
          },
          "metadata": {},
          "execution_count": 26
        }
      ]
    },
    {
      "cell_type": "code",
      "source": [
        "binary_classifier.fit(pd.concat([train_df, test_df]).text,\n",
        "                      pd.concat([train_df, test_df]).sentiment)"
      ],
      "metadata": {
        "colab": {
          "base_uri": "https://localhost:8080/",
          "height": 285
        },
        "outputId": "b7a8a219-a020-4989-9c8b-ca1f6c0ff206",
        "id": "1VYoVgx4kssx"
      },
      "execution_count": null,
      "outputs": [
        {
          "output_type": "stream",
          "name": "stderr",
          "text": [
            "/usr/local/lib/python3.10/dist-packages/sklearn/linear_model/_logistic.py:458: ConvergenceWarning: lbfgs failed to converge (status=1):\n",
            "STOP: TOTAL NO. of ITERATIONS REACHED LIMIT.\n",
            "\n",
            "Increase the number of iterations (max_iter) or scale the data as shown in:\n",
            "    https://scikit-learn.org/stable/modules/preprocessing.html\n",
            "Please also refer to the documentation for alternative solver options:\n",
            "    https://scikit-learn.org/stable/modules/linear_model.html#logistic-regression\n",
            "  n_iter_i = _check_optimize_result(\n"
          ]
        },
        {
          "output_type": "execute_result",
          "data": {
            "text/plain": [
              "Pipeline(steps=[('hash_vec',\n",
              "                 HashingVectorizer(lowercase=False, ngram_range=(1, 2),\n",
              "                                   stop_words='english')),\n",
              "                ('logreg', LogisticRegression())])"
            ],
            "text/html": [
              "<style>#sk-container-id-3 {color: black;background-color: white;}#sk-container-id-3 pre{padding: 0;}#sk-container-id-3 div.sk-toggleable {background-color: white;}#sk-container-id-3 label.sk-toggleable__label {cursor: pointer;display: block;width: 100%;margin-bottom: 0;padding: 0.3em;box-sizing: border-box;text-align: center;}#sk-container-id-3 label.sk-toggleable__label-arrow:before {content: \"▸\";float: left;margin-right: 0.25em;color: #696969;}#sk-container-id-3 label.sk-toggleable__label-arrow:hover:before {color: black;}#sk-container-id-3 div.sk-estimator:hover label.sk-toggleable__label-arrow:before {color: black;}#sk-container-id-3 div.sk-toggleable__content {max-height: 0;max-width: 0;overflow: hidden;text-align: left;background-color: #f0f8ff;}#sk-container-id-3 div.sk-toggleable__content pre {margin: 0.2em;color: black;border-radius: 0.25em;background-color: #f0f8ff;}#sk-container-id-3 input.sk-toggleable__control:checked~div.sk-toggleable__content {max-height: 200px;max-width: 100%;overflow: auto;}#sk-container-id-3 input.sk-toggleable__control:checked~label.sk-toggleable__label-arrow:before {content: \"▾\";}#sk-container-id-3 div.sk-estimator input.sk-toggleable__control:checked~label.sk-toggleable__label {background-color: #d4ebff;}#sk-container-id-3 div.sk-label input.sk-toggleable__control:checked~label.sk-toggleable__label {background-color: #d4ebff;}#sk-container-id-3 input.sk-hidden--visually {border: 0;clip: rect(1px 1px 1px 1px);clip: rect(1px, 1px, 1px, 1px);height: 1px;margin: -1px;overflow: hidden;padding: 0;position: absolute;width: 1px;}#sk-container-id-3 div.sk-estimator {font-family: monospace;background-color: #f0f8ff;border: 1px dotted black;border-radius: 0.25em;box-sizing: border-box;margin-bottom: 0.5em;}#sk-container-id-3 div.sk-estimator:hover {background-color: #d4ebff;}#sk-container-id-3 div.sk-parallel-item::after {content: \"\";width: 100%;border-bottom: 1px solid gray;flex-grow: 1;}#sk-container-id-3 div.sk-label:hover label.sk-toggleable__label {background-color: #d4ebff;}#sk-container-id-3 div.sk-serial::before {content: \"\";position: absolute;border-left: 1px solid gray;box-sizing: border-box;top: 0;bottom: 0;left: 50%;z-index: 0;}#sk-container-id-3 div.sk-serial {display: flex;flex-direction: column;align-items: center;background-color: white;padding-right: 0.2em;padding-left: 0.2em;position: relative;}#sk-container-id-3 div.sk-item {position: relative;z-index: 1;}#sk-container-id-3 div.sk-parallel {display: flex;align-items: stretch;justify-content: center;background-color: white;position: relative;}#sk-container-id-3 div.sk-item::before, #sk-container-id-3 div.sk-parallel-item::before {content: \"\";position: absolute;border-left: 1px solid gray;box-sizing: border-box;top: 0;bottom: 0;left: 50%;z-index: -1;}#sk-container-id-3 div.sk-parallel-item {display: flex;flex-direction: column;z-index: 1;position: relative;background-color: white;}#sk-container-id-3 div.sk-parallel-item:first-child::after {align-self: flex-end;width: 50%;}#sk-container-id-3 div.sk-parallel-item:last-child::after {align-self: flex-start;width: 50%;}#sk-container-id-3 div.sk-parallel-item:only-child::after {width: 0;}#sk-container-id-3 div.sk-dashed-wrapped {border: 1px dashed gray;margin: 0 0.4em 0.5em 0.4em;box-sizing: border-box;padding-bottom: 0.4em;background-color: white;}#sk-container-id-3 div.sk-label label {font-family: monospace;font-weight: bold;display: inline-block;line-height: 1.2em;}#sk-container-id-3 div.sk-label-container {text-align: center;}#sk-container-id-3 div.sk-container {/* jupyter's `normalize.less` sets `[hidden] { display: none; }` but bootstrap.min.css set `[hidden] { display: none !important; }` so we also need the `!important` here to be able to override the default hidden behavior on the sphinx rendered scikit-learn.org. See: https://github.com/scikit-learn/scikit-learn/issues/21755 */display: inline-block !important;position: relative;}#sk-container-id-3 div.sk-text-repr-fallback {display: none;}</style><div id=\"sk-container-id-3\" class=\"sk-top-container\"><div class=\"sk-text-repr-fallback\"><pre>Pipeline(steps=[(&#x27;hash_vec&#x27;,\n",
              "                 HashingVectorizer(lowercase=False, ngram_range=(1, 2),\n",
              "                                   stop_words=&#x27;english&#x27;)),\n",
              "                (&#x27;logreg&#x27;, LogisticRegression())])</pre><b>In a Jupyter environment, please rerun this cell to show the HTML representation or trust the notebook. <br />On GitHub, the HTML representation is unable to render, please try loading this page with nbviewer.org.</b></div><div class=\"sk-container\" hidden><div class=\"sk-item sk-dashed-wrapped\"><div class=\"sk-label-container\"><div class=\"sk-label sk-toggleable\"><input class=\"sk-toggleable__control sk-hidden--visually\" id=\"sk-estimator-id-8\" type=\"checkbox\" ><label for=\"sk-estimator-id-8\" class=\"sk-toggleable__label sk-toggleable__label-arrow\">Pipeline</label><div class=\"sk-toggleable__content\"><pre>Pipeline(steps=[(&#x27;hash_vec&#x27;,\n",
              "                 HashingVectorizer(lowercase=False, ngram_range=(1, 2),\n",
              "                                   stop_words=&#x27;english&#x27;)),\n",
              "                (&#x27;logreg&#x27;, LogisticRegression())])</pre></div></div></div><div class=\"sk-serial\"><div class=\"sk-item\"><div class=\"sk-estimator sk-toggleable\"><input class=\"sk-toggleable__control sk-hidden--visually\" id=\"sk-estimator-id-9\" type=\"checkbox\" ><label for=\"sk-estimator-id-9\" class=\"sk-toggleable__label sk-toggleable__label-arrow\">HashingVectorizer</label><div class=\"sk-toggleable__content\"><pre>HashingVectorizer(lowercase=False, ngram_range=(1, 2), stop_words=&#x27;english&#x27;)</pre></div></div></div><div class=\"sk-item\"><div class=\"sk-estimator sk-toggleable\"><input class=\"sk-toggleable__control sk-hidden--visually\" id=\"sk-estimator-id-10\" type=\"checkbox\" ><label for=\"sk-estimator-id-10\" class=\"sk-toggleable__label sk-toggleable__label-arrow\">LogisticRegression</label><div class=\"sk-toggleable__content\"><pre>LogisticRegression()</pre></div></div></div></div></div></div></div>"
            ]
          },
          "metadata": {},
          "execution_count": 27
        }
      ]
    },
    {
      "cell_type": "markdown",
      "source": [
        "## Model saving"
      ],
      "metadata": {
        "id": "kBAy6wE7uodE"
      }
    },
    {
      "cell_type": "code",
      "source": [
        "import pickle"
      ],
      "metadata": {
        "id": "I98LWsbWxOoB"
      },
      "execution_count": 21,
      "outputs": []
    },
    {
      "cell_type": "code",
      "source": [
        "with open(\"rating_predictor\", \"wb\") as f:\n",
        "  pickle.dump(rating_predictor, f)"
      ],
      "metadata": {
        "id": "ojn5_zOR_Jfq"
      },
      "execution_count": null,
      "outputs": []
    },
    {
      "cell_type": "code",
      "source": [
        "with open(\"binary_classifier\", \"wb\") as f:\n",
        "  pickle.dump(binary_classifier, f)"
      ],
      "metadata": {
        "id": "H6TK3TGfGgsP"
      },
      "execution_count": 22,
      "outputs": []
    },
    {
      "cell_type": "markdown",
      "source": [
        "# Going deeper"
      ],
      "metadata": {
        "id": "bWyN9iRZgYrB"
      }
    },
    {
      "cell_type": "code",
      "source": [
        "!pip install evaluate==0.4.0 -q\n",
        "!pip install transformers==4.28.0 -q"
      ],
      "metadata": {
        "colab": {
          "base_uri": "https://localhost:8080/"
        },
        "id": "zrWfqHf597_c",
        "outputId": "5b0a1e66-697a-429a-8f57-4d2aa709c38a"
      },
      "execution_count": null,
      "outputs": [
        {
          "output_type": "stream",
          "name": "stdout",
          "text": [
            "\u001b[2K     \u001b[90m━━━━━━━━━━━━━━━━━━━━━━━━━━━━━━━━━━━━━━━━\u001b[0m \u001b[32m81.4/81.4 kB\u001b[0m \u001b[31m10.1 MB/s\u001b[0m eta \u001b[36m0:00:00\u001b[0m\n",
            "\u001b[2K     \u001b[90m━━━━━━━━━━━━━━━━━━━━━━━━━━━━━━━━━━━━━━\u001b[0m \u001b[32m486.2/486.2 kB\u001b[0m \u001b[31m47.8 MB/s\u001b[0m eta \u001b[36m0:00:00\u001b[0m\n",
            "\u001b[2K     \u001b[90m━━━━━━━━━━━━━━━━━━━━━━━━━━━━━━━━━━━━━━\u001b[0m \u001b[32m110.5/110.5 kB\u001b[0m \u001b[31m15.2 MB/s\u001b[0m eta \u001b[36m0:00:00\u001b[0m\n",
            "\u001b[2K     \u001b[90m━━━━━━━━━━━━━━━━━━━━━━━━━━━━━━━━━━━━━━\u001b[0m \u001b[32m212.5/212.5 kB\u001b[0m \u001b[31m26.9 MB/s\u001b[0m eta \u001b[36m0:00:00\u001b[0m\n",
            "\u001b[2K     \u001b[90m━━━━━━━━━━━━━━━━━━━━━━━━━━━━━━━━━━━━━━\u001b[0m \u001b[32m134.3/134.3 kB\u001b[0m \u001b[31m16.1 MB/s\u001b[0m eta \u001b[36m0:00:00\u001b[0m\n",
            "\u001b[2K     \u001b[90m━━━━━━━━━━━━━━━━━━━━━━━━━━━━━━━━━━━━━━\u001b[0m \u001b[32m268.8/268.8 kB\u001b[0m \u001b[31m30.9 MB/s\u001b[0m eta \u001b[36m0:00:00\u001b[0m\n",
            "\u001b[2K     \u001b[90m━━━━━━━━━━━━━━━━━━━━━━━━━━━━━━━━━━━━━━━━\u001b[0m \u001b[32m7.0/7.0 MB\u001b[0m \u001b[31m50.0 MB/s\u001b[0m eta \u001b[36m0:00:00\u001b[0m\n",
            "\u001b[2K     \u001b[90m━━━━━━━━━━━━━━━━━━━━━━━━━━━━━━━━━━━━━━━━\u001b[0m \u001b[32m7.8/7.8 MB\u001b[0m \u001b[31m35.4 MB/s\u001b[0m eta \u001b[36m0:00:00\u001b[0m\n",
            "\u001b[?25h"
          ]
        }
      ]
    },
    {
      "cell_type": "code",
      "source": [
        "from datasets import load_dataset\n",
        "from transformers import (AutoTokenizer, AutoModelForSequenceClassification,\n",
        "                          DataCollatorWithPadding, TrainingArguments, Trainer)\n",
        "import evaluate"
      ],
      "metadata": {
        "id": "Kn22Ikw0gZNb"
      },
      "execution_count": null,
      "outputs": []
    },
    {
      "cell_type": "code",
      "source": [
        "from huggingface_hub import notebook_login\n",
        "notebook_login()"
      ],
      "metadata": {
        "id": "icXamO3zhtGC"
      },
      "execution_count": null,
      "outputs": []
    },
    {
      "cell_type": "markdown",
      "source": [
        "## Dataset preparation"
      ],
      "metadata": {
        "id": "-Qu9j179g2tw"
      }
    },
    {
      "cell_type": "code",
      "source": [
        "!wget https://ai.stanford.edu/~amaas/data/sentiment/aclImdb_v1.tar.gz\n",
        "!tar -xf aclImdb_v1.tar.gz"
      ],
      "metadata": {
        "id": "vOTDgxRGjO5B"
      },
      "execution_count": null,
      "outputs": []
    },
    {
      "cell_type": "code",
      "source": [
        "train_files = [*glob.glob(\"/content/aclImdb/train/neg/*.txt\"), *glob.glob(\"/content/aclImdb/train/pos/*.txt\")]\n",
        "train_labels = [int(re.findall(\"\\d+\", i)[-1]) for i in train_files]\n",
        "\n",
        "test_files = [*glob.glob(\"/content/aclImdb/test/neg/*.txt\"), *glob.glob(\"/content/aclImdb/test/pos/*.txt\")]\n",
        "test_labels = [int(re.findall(\"\\d+\", i)[-1]) for i in test_files]"
      ],
      "metadata": {
        "id": "06qalESPjFeO"
      },
      "execution_count": null,
      "outputs": []
    },
    {
      "cell_type": "code",
      "source": [
        "id2label = dict(enumerate(set(train_labels)))\n",
        "label2id = {v: k for k, v in id2label.items()}"
      ],
      "metadata": {
        "id": "dcQ6qN8QJffn"
      },
      "execution_count": null,
      "outputs": []
    },
    {
      "cell_type": "code",
      "source": [
        "train_labels = [label2id[i] for i in train_labels]\n",
        "test_labels = [label2id[i] for i in test_labels]"
      ],
      "metadata": {
        "id": "96GsQmLHJo4u"
      },
      "execution_count": null,
      "outputs": []
    },
    {
      "cell_type": "code",
      "source": [
        "data_files = {\"train\":  train_files,\n",
        "              \"test\":  test_files}\n",
        "\n",
        "dataset = load_dataset(\"text\", data_files=data_files)"
      ],
      "metadata": {
        "colab": {
          "base_uri": "https://localhost:8080/",
          "height": 232,
          "referenced_widgets": [
            "81cd87f1a85c49cea8bfe8c9241c30dd",
            "d5349ae207e6463ca3f00d3b37c15759",
            "74ed6d2929fd49fba3efb770091fccdc",
            "847e391f19e94e6c94a6dd09403de34e",
            "ad8d3344f994418bba9a303130601efe",
            "11b41a7d74354044948a9876ec11ee57",
            "2f3f73f4c64c4461a4fad55d272e94e5",
            "a6bc3106d583407a9014c6cb4f879e02",
            "fdaad8b0f53c409fac644e8268b6e5b0",
            "2b66974c41e9435788046fbbf8f22eb6",
            "b0efbc98c0c44b4eade6ebd43b0e6092",
            "2d116dcfef9545a181fd70d9b13e7eb1",
            "5bba9ced512c40bda8857388345dfa74",
            "81b68f03403e4ac7ba671621bf7170d8",
            "1a10813be5d14e11932121594a173958",
            "7a1576911ecb42bc8ee882692c3921cd",
            "36c01c3d0304434192b82d638f5bb7cd",
            "5d53427ef5724166b7b6632aee1ddca2",
            "0b69900d8c2741a0b4b587c6f43b0537",
            "2bc6c2053af84c9c96e383b251f3a35f",
            "812cca5d8c7d40e6b515ea06f888175f",
            "4e0401eab06841f09405d82e869b7dae",
            "5dd85d015ab0412b8fad197db043960c",
            "d98f3903ecae4e38ae99509fc9af70d5",
            "b4f8d4d321ba44ce8d7f0251482671f6",
            "728039b1b79c4112a5fea4f5883a6c87",
            "ae7a02a9515b4a7083fc0b5f2f2e6a99",
            "16172dcd8f5b4bedb1a5a5c016e0a867",
            "560ece9adc2645c695c75b133802ea38",
            "ca59043498a247d0b1d9081a35d727b9",
            "9a7c61d967fb4b1fa836ef4b606f1df1",
            "5b24efe1ad504f7596178ff967859bac",
            "d975c3b45398495cb3ad58c2e53b245e",
            "0380275a50cf4578a38ed4d5bdb4a7c5",
            "93e3fd2e53db4144b56db90832e7775d",
            "c7cecf51ece7438d8e7ff2fb253c6594",
            "60f6a1e991834d9fbd3aa84d206f5e69",
            "818d1ae4d8d74323b2ca9b9ff8bbeb59",
            "3ed10c86338540f696a8da012865f256",
            "e0057f102ac14375971ea8fcb6cfaa8b",
            "ec6c52be06df476a84f85bd93a2838cd",
            "4cfb5e52a0404afaacb6a187025ea8ba",
            "2d7d3b3f7b53468cae171cfc630d8688",
            "8b4597d64d444f47a712f600532114cb",
            "8c1fae22d3e24542b03abeaa152ec1cf",
            "39519607ce1c4f078c02c7733269cd1c",
            "22051b3abe5141f197a49fe481bd5b09",
            "fe89898b51354131a33a451f071c7733",
            "2c674794a017406a9b3a31df8800124a",
            "0f2f0ee551ad4d0483b036585111826f",
            "2647399d936a474ca0108e735d9b39e0",
            "618e1e2a2df14ae1847e9420d7ca11a4",
            "b6cd05fba88c4034bcf2f681640fcd9e",
            "3b24db77185e4350ab4f1610b39bb23a",
            "3f797d8ccdfe420186616d3b23a38370",
            "83a0bb656d504920bfb09c9c49994c68",
            "bac609a96d6a4f29b56c8dc24cf4dd68",
            "3964843b63cc4e7c917f93a29fdac348",
            "557263edb1b24339a26b4e05945e6b37",
            "edefd6cdd6b84505b27a36c8e89e122d",
            "8c453024e8a7488e80336ee3d5f282f0",
            "b41b9243c28343e4908857a4b35c1340",
            "08f5785930ae4532add581617cc2b634",
            "886b6302d7224423bf2d140e8f379c5d",
            "b55e44552caf4b1b924ae881ff45a94d",
            "30fb820d353c4a2199a7ba84a988abcf",
            "9e67bb749c214f4bad060429fd8c6af7",
            "9f8690b3476f414798df2507f6a2a332",
            "7488e4b959f644c2ad8a048735e0495c",
            "a93f53a85b584a79ae30b2b28bdf64de",
            "96e0c478f71a442c9f2ced22d4f91e43",
            "9f8abc4c79984fbcb4db959f1fdcc589",
            "f01699bf0f934f1bb17953d33a7509f1",
            "804a7d84198c45878cbae08e3f838289",
            "a30ba51339544d7eb76d4773f68b4ce9",
            "62dad5de499c4214b944cd4cdbf10007",
            "45ccdfedd94f451f8749559acb3ca8fc"
          ]
        },
        "id": "bubE7xOcYrVV",
        "outputId": "959fb791-e678-4dd3-b86b-8e0d6f3596e0"
      },
      "execution_count": null,
      "outputs": [
        {
          "output_type": "display_data",
          "data": {
            "text/plain": [
              "Resolving data files:   0%|          | 0/25000 [00:00<?, ?it/s]"
            ],
            "application/vnd.jupyter.widget-view+json": {
              "version_major": 2,
              "version_minor": 0,
              "model_id": "81cd87f1a85c49cea8bfe8c9241c30dd"
            }
          },
          "metadata": {}
        },
        {
          "output_type": "display_data",
          "data": {
            "text/plain": [
              "Resolving data files:   0%|          | 0/25000 [00:00<?, ?it/s]"
            ],
            "application/vnd.jupyter.widget-view+json": {
              "version_major": 2,
              "version_minor": 0,
              "model_id": "2d116dcfef9545a181fd70d9b13e7eb1"
            }
          },
          "metadata": {}
        },
        {
          "output_type": "stream",
          "name": "stdout",
          "text": [
            "Downloading and preparing dataset text/default to /root/.cache/huggingface/datasets/text/default-1663db52a8f72011/0.0.0/cb1e9bd71a82ad27976be3b12b407850fe2837d80c22c5e03a28949843a8ace2...\n"
          ]
        },
        {
          "output_type": "display_data",
          "data": {
            "text/plain": [
              "Downloading data files:   0%|          | 0/2 [00:00<?, ?it/s]"
            ],
            "application/vnd.jupyter.widget-view+json": {
              "version_major": 2,
              "version_minor": 0,
              "model_id": "5dd85d015ab0412b8fad197db043960c"
            }
          },
          "metadata": {}
        },
        {
          "output_type": "display_data",
          "data": {
            "text/plain": [
              "Extracting data files:   0%|          | 0/2 [00:00<?, ?it/s]"
            ],
            "application/vnd.jupyter.widget-view+json": {
              "version_major": 2,
              "version_minor": 0,
              "model_id": "0380275a50cf4578a38ed4d5bdb4a7c5"
            }
          },
          "metadata": {}
        },
        {
          "output_type": "display_data",
          "data": {
            "text/plain": [
              "Generating train split: 0 examples [00:00, ? examples/s]"
            ],
            "application/vnd.jupyter.widget-view+json": {
              "version_major": 2,
              "version_minor": 0,
              "model_id": "8c1fae22d3e24542b03abeaa152ec1cf"
            }
          },
          "metadata": {}
        },
        {
          "output_type": "display_data",
          "data": {
            "text/plain": [
              "Generating test split: 0 examples [00:00, ? examples/s]"
            ],
            "application/vnd.jupyter.widget-view+json": {
              "version_major": 2,
              "version_minor": 0,
              "model_id": "83a0bb656d504920bfb09c9c49994c68"
            }
          },
          "metadata": {}
        },
        {
          "output_type": "stream",
          "name": "stdout",
          "text": [
            "Dataset text downloaded and prepared to /root/.cache/huggingface/datasets/text/default-1663db52a8f72011/0.0.0/cb1e9bd71a82ad27976be3b12b407850fe2837d80c22c5e03a28949843a8ace2. Subsequent calls will reuse this data.\n"
          ]
        },
        {
          "output_type": "display_data",
          "data": {
            "text/plain": [
              "  0%|          | 0/2 [00:00<?, ?it/s]"
            ],
            "application/vnd.jupyter.widget-view+json": {
              "version_major": 2,
              "version_minor": 0,
              "model_id": "9e67bb749c214f4bad060429fd8c6af7"
            }
          },
          "metadata": {}
        }
      ]
    },
    {
      "cell_type": "code",
      "source": [
        "dataset"
      ],
      "metadata": {
        "colab": {
          "base_uri": "https://localhost:8080/"
        },
        "id": "e6aCZ-ku9kMJ",
        "outputId": "26e7f9d6-5c63-48ea-a3d8-71dc73fe7827"
      },
      "execution_count": null,
      "outputs": [
        {
          "output_type": "execute_result",
          "data": {
            "text/plain": [
              "DatasetDict({\n",
              "    train: Dataset({\n",
              "        features: ['text'],\n",
              "        num_rows: 25000\n",
              "    })\n",
              "    test: Dataset({\n",
              "        features: ['text'],\n",
              "        num_rows: 25000\n",
              "    })\n",
              "})"
            ]
          },
          "metadata": {},
          "execution_count": 9
        }
      ]
    },
    {
      "cell_type": "code",
      "source": [
        "dataset[\"train\"] = dataset[\"train\"].add_column(\"label\", train_labels)\n",
        "dataset[\"test\"] = dataset[\"test\"].add_column(\"label\", test_labels)"
      ],
      "metadata": {
        "id": "8cmINN8N5en3"
      },
      "execution_count": null,
      "outputs": []
    },
    {
      "cell_type": "code",
      "source": [
        "dataset[\"test\"][0]"
      ],
      "metadata": {
        "colab": {
          "base_uri": "https://localhost:8080/"
        },
        "id": "utiyV9y2CBPM",
        "outputId": "538db5d9-fce9-459c-902f-b7fe629c073f"
      },
      "execution_count": null,
      "outputs": [
        {
          "output_type": "execute_result",
          "data": {
            "text/plain": [
              "{'text': \"We thought this was one of the worst movies ever. I had to volunteer to watch the end. The romance was not believable; the characters were not developed; the love affair made hardly any sense; it was miscast; and scenery was absolutely stupid because it was either (my opinion) like the ADAMS FAMILY GOES ON VACATION...just creepy, gypsy and cheesy; and the OUTERBANKS does not look typically like those houses on the surf; and who would spend the night in one during a hurricane if it was not theirs. Also..it was not realistic. hurrricanes give you plenty of notice to batten down the hatches.<br /><br />Also the friend was superfluous; and did not match the story What did the civil war have to do with the outerbanks anyway? I also have to mention the wardrobe...did D. Lane have to have a scarf/pashmina/shawl on in every scene? It was overdone. She looked good enough to not have to hide things; without making them obvious like with light slacks.<br /><br />Lastly I am concerned with the impact on our landfills when everyone has to dispose of this stupid, and I mean STUPID movie!!!! Don't fall for the hype on this one!!!!!! We did. Not even watchable.\",\n",
              " 'label': 0}"
            ]
          },
          "metadata": {},
          "execution_count": 11
        }
      ]
    },
    {
      "cell_type": "code",
      "source": [
        "tokenizer = AutoTokenizer.from_pretrained(\"xlnet-base-cased\")"
      ],
      "metadata": {
        "colab": {
          "base_uri": "https://localhost:8080/",
          "height": 113,
          "referenced_widgets": [
            "0cbd1c19580e4ec9aec9905a7b00cfab",
            "160f0c5b246f4784ba5660ec815b33cc",
            "5bb7174fb3254780b317a8451adace72",
            "d634e2dbfe3e4128a8b31c2ae7c67f6c",
            "b4a86d191ebf4fea9d423d1c0e554a94",
            "884af85c41104c4ca3c40cc4171efc42",
            "9d970a23a05a44628ac38df0e921eea2",
            "76a14e98a4a5494c88731bc9f07eba79",
            "3f22b016bd5b4ba5bef49269918b7366",
            "3ef0b773fd974b40b1f86b9d05b5e09c",
            "00070a9ba181444e99d244b84cf3de55",
            "2e95681a53f443af8a95a24441629ead",
            "ecfea54e9298426f9683f95d413aaf63",
            "290540f6b58a4abf8d918943255baf76",
            "32fb7205bf4b46f3affe4bc3bf29df07",
            "bcce7f3b04594e4fa985c9142793f2a7",
            "ec83c72f39a145ce8386e6eb67e04157",
            "35310b1de23041ee95e3a1f41c58244c",
            "c235952cd6894087bbff1c199bd06bae",
            "6201f119093240ed93c19009298d0087",
            "62b4bcd5375d4c3d90afeb14ab6a449b",
            "69aa456785aa41f39bf40dd498029bb9",
            "3ea16e19d71548a29f7c80de023975ea",
            "3c11ab2de1a1434d84aa7bca56042d79",
            "fdf489906b9943f88e27fd0cd5d2ab84",
            "3465a627aa214ae1b81119a5752a607d",
            "55968d332f8945a5aa145f23171ed731",
            "4e0c9ec1a6854b47bad53a70d83bbf13",
            "7ab26c50e27443baae47661ea0a2772d",
            "6093e3dfd2b74923a1c6cdc359a274ac",
            "ec7cf7ceec9845f6b1c1ac3e5bfe45b7",
            "8ef6d359a5034e8ea0c5498a844ea3fe",
            "7b3e3f93c3b34f7db98daad14ea060cf"
          ]
        },
        "outputId": "27e71a79-dfe1-48ec-88fd-2051868f6c44",
        "id": "7ri0Gfs0gZNc"
      },
      "execution_count": null,
      "outputs": [
        {
          "output_type": "display_data",
          "data": {
            "text/plain": [
              "Downloading (…)lve/main/config.json:   0%|          | 0.00/760 [00:00<?, ?B/s]"
            ],
            "application/vnd.jupyter.widget-view+json": {
              "version_major": 2,
              "version_minor": 0,
              "model_id": "0cbd1c19580e4ec9aec9905a7b00cfab"
            }
          },
          "metadata": {}
        },
        {
          "output_type": "display_data",
          "data": {
            "text/plain": [
              "Downloading (…)ve/main/spiece.model:   0%|          | 0.00/798k [00:00<?, ?B/s]"
            ],
            "application/vnd.jupyter.widget-view+json": {
              "version_major": 2,
              "version_minor": 0,
              "model_id": "2e95681a53f443af8a95a24441629ead"
            }
          },
          "metadata": {}
        },
        {
          "output_type": "display_data",
          "data": {
            "text/plain": [
              "Downloading (…)/main/tokenizer.json:   0%|          | 0.00/1.38M [00:00<?, ?B/s]"
            ],
            "application/vnd.jupyter.widget-view+json": {
              "version_major": 2,
              "version_minor": 0,
              "model_id": "3ea16e19d71548a29f7c80de023975ea"
            }
          },
          "metadata": {}
        }
      ]
    },
    {
      "cell_type": "code",
      "source": [
        "def preprocess_function(examples):\n",
        "    return tokenizer(examples[\"text\"], truncation=True, max_length=512)\n",
        "\n",
        "data_collator = DataCollatorWithPadding(tokenizer=tokenizer)"
      ],
      "metadata": {
        "id": "Eu_6sI-GqX4r"
      },
      "execution_count": null,
      "outputs": []
    },
    {
      "cell_type": "code",
      "source": [
        "tokenized_dataset = dataset.map(preprocess_function, batched=True)\n",
        "tokenized_dataset"
      ],
      "metadata": {
        "colab": {
          "base_uri": "https://localhost:8080/",
          "height": 191,
          "referenced_widgets": [
            "4466c73651e346b59db649848e9cbf10",
            "3cef098d0e12477fad38185b32dc77ee",
            "ae7fd68213d04fb7a439ca9155b9419a",
            "1a56ba45f56b4507a0dd9c0914f4c28c",
            "ac44688c362c43ccb4c3923a6ed47dec",
            "3a110d41d9834ee196ab22a606fbece4",
            "0479948cbda54cb9acbd09baab253d5d",
            "372e959e33eb41e98750a369c2755343",
            "cc63e2e4782e46cabc2f43df3ba8ef87",
            "37f2f11bab8e480d95f68f4cfbe2ebd5",
            "efb0282425664dd7a776895c6f972ca2",
            "d2d5fbe84d844442b4e0d93befc5c86d",
            "0ee5d3e88dce4ee7811ef435b9ad19b6",
            "a503c3fd693b46b9aa6821667f064966",
            "588c055a04fe4a78ae7c71a2a4fe5cef",
            "410f82bf23864fa59c50752821048817",
            "a90e311a7e06428184c1633daeec95af",
            "67ada0ca6efc4a7dbfe9865257f0b667",
            "538d8b88d1f14b718d9eddd3e6203129",
            "d9cdebfeb639418b9871c5ed03a84aa2",
            "b4c2c902638a49bc9a6f608b39063ddf",
            "d6a850b3a7b242a2b0fd083e9738f66c"
          ]
        },
        "outputId": "19672989-6a9b-48d7-aa42-31977806dd91",
        "id": "hbOPv1vAgZNd"
      },
      "execution_count": null,
      "outputs": [
        {
          "output_type": "display_data",
          "data": {
            "text/plain": [
              "Map:   0%|          | 0/25000 [00:00<?, ? examples/s]"
            ],
            "application/vnd.jupyter.widget-view+json": {
              "version_major": 2,
              "version_minor": 0,
              "model_id": "4466c73651e346b59db649848e9cbf10"
            }
          },
          "metadata": {}
        },
        {
          "output_type": "display_data",
          "data": {
            "text/plain": [
              "Map:   0%|          | 0/25000 [00:00<?, ? examples/s]"
            ],
            "application/vnd.jupyter.widget-view+json": {
              "version_major": 2,
              "version_minor": 0,
              "model_id": "d2d5fbe84d844442b4e0d93befc5c86d"
            }
          },
          "metadata": {}
        },
        {
          "output_type": "execute_result",
          "data": {
            "text/plain": [
              "DatasetDict({\n",
              "    train: Dataset({\n",
              "        features: ['text', 'label', 'input_ids', 'token_type_ids', 'attention_mask'],\n",
              "        num_rows: 25000\n",
              "    })\n",
              "    test: Dataset({\n",
              "        features: ['text', 'label', 'input_ids', 'token_type_ids', 'attention_mask'],\n",
              "        num_rows: 25000\n",
              "    })\n",
              "})"
            ]
          },
          "metadata": {},
          "execution_count": 14
        }
      ]
    },
    {
      "cell_type": "markdown",
      "source": [
        "## Model finetuning"
      ],
      "metadata": {
        "id": "BVQBFjtDh4DW"
      }
    },
    {
      "cell_type": "code",
      "source": [
        "accuracy = evaluate.load(\"accuracy\")\n",
        "\n",
        "def compute_metrics(eval_pred):\n",
        "    predictions, labels = eval_pred\n",
        "    predictions = np.argmax(predictions, axis=1)\n",
        "\n",
        "    bin_pred = (predictions < 4).astype(int)\n",
        "    bin_labels = (labels < 4).astype(int)\n",
        "\n",
        "    return {\"Rating_Accuracy\": accuracy.compute(predictions=predictions, references=labels),\n",
        "            \"Sentiment_Accuracy\": accuracy.compute(predictions=bin_pred, references=bin_labels)}"
      ],
      "metadata": {
        "id": "KkqJeUzvED7_"
      },
      "execution_count": null,
      "outputs": []
    },
    {
      "cell_type": "code",
      "source": [
        "model = AutoModelForSequenceClassification.from_pretrained(\n",
        "    \"xlnet-base-cased\",\n",
        "    num_labels=len(set(train_labels)),\n",
        "    id2label=id2label,\n",
        "    label2id=label2id\n",
        ")"
      ],
      "metadata": {
        "colab": {
          "base_uri": "https://localhost:8080/",
          "height": 156,
          "referenced_widgets": [
            "3b5aefdaa3d548ed97141d9fbef3757f",
            "70a85eb9621a4b11bdd13da46535885e",
            "d82cc395763443e1ac6d11b2f1b723b5",
            "f5e2098ca6bb4c52b594fd8deebdaa1c",
            "40e79e1e1fb5495b999872abc014bcdf",
            "49b16453896348b8a559c20ab73230a0",
            "fefa21c4dbeb4633926ca69c22f13e8e",
            "8e6718a505274957a2c43c78c35ac675",
            "a12efdf64b574475920f40163c4452a8",
            "d54992886b43401dac24983b83cb608e",
            "2fcfa2b1d7c943338fe7d8d09a6d3aed"
          ]
        },
        "outputId": "738ae3c4-92dd-4300-faca-6f71245dc985",
        "id": "rb80ZR26gZNf"
      },
      "execution_count": null,
      "outputs": [
        {
          "output_type": "display_data",
          "data": {
            "text/plain": [
              "Downloading pytorch_model.bin:   0%|          | 0.00/467M [00:00<?, ?B/s]"
            ],
            "application/vnd.jupyter.widget-view+json": {
              "version_major": 2,
              "version_minor": 0,
              "model_id": "3b5aefdaa3d548ed97141d9fbef3757f"
            }
          },
          "metadata": {}
        },
        {
          "output_type": "stream",
          "name": "stderr",
          "text": [
            "Some weights of the model checkpoint at xlnet-base-cased were not used when initializing XLNetForSequenceClassification: ['lm_loss.bias', 'lm_loss.weight']\n",
            "- This IS expected if you are initializing XLNetForSequenceClassification from the checkpoint of a model trained on another task or with another architecture (e.g. initializing a BertForSequenceClassification model from a BertForPreTraining model).\n",
            "- This IS NOT expected if you are initializing XLNetForSequenceClassification from the checkpoint of a model that you expect to be exactly identical (initializing a BertForSequenceClassification model from a BertForSequenceClassification model).\n",
            "Some weights of XLNetForSequenceClassification were not initialized from the model checkpoint at xlnet-base-cased and are newly initialized: ['sequence_summary.summary.bias', 'sequence_summary.summary.weight', 'logits_proj.bias', 'logits_proj.weight']\n",
            "You should probably TRAIN this model on a down-stream task to be able to use it for predictions and inference.\n"
          ]
        }
      ]
    },
    {
      "cell_type": "code",
      "source": [
        "batch_size = 2\n",
        "\n",
        "training_args = TrainingArguments(\n",
        "    output_dir=\"pa-shk/movie-review-classifier\",\n",
        "    learning_rate=2e-5,\n",
        "    num_train_epochs=3,\n",
        "    weight_decay=0.01,\n",
        "    evaluation_strategy=\"epoch\",\n",
        "    save_strategy=\"epoch\",\n",
        "    load_best_model_at_end=True,\n",
        "    push_to_hub=True,\n",
        "    per_device_train_batch_size=batch_size,\n",
        "    per_device_eval_batch_size=batch_size,\n",
        ")"
      ],
      "metadata": {
        "id": "JDJQQCVQgZNf"
      },
      "execution_count": null,
      "outputs": []
    },
    {
      "cell_type": "code",
      "source": [
        "trainer = Trainer(\n",
        "    model=model,\n",
        "    args=training_args,\n",
        "    train_dataset=tokenized_dataset[\"train\"],\n",
        "    eval_dataset=tokenized_dataset[\"test\"],\n",
        "    tokenizer=tokenizer,\n",
        "    data_collator=data_collator,\n",
        "    compute_metrics=compute_metrics,\n",
        ")\n",
        "\n",
        "trainer.train()"
      ],
      "metadata": {
        "colab": {
          "base_uri": "https://localhost:8080/",
          "height": 297
        },
        "outputId": "8dc3daba-c522-4676-9092-5a6d90c984df",
        "id": "BEf2Tl9AgZNg"
      },
      "execution_count": null,
      "outputs": [
        {
          "output_type": "stream",
          "name": "stderr",
          "text": [
            "Cloning https://huggingface.co/pa-shk/movie-review-classifier into local empty directory.\n",
            "WARNING:huggingface_hub.repository:Cloning https://huggingface.co/pa-shk/movie-review-classifier into local empty directory.\n",
            "/usr/local/lib/python3.10/dist-packages/transformers/optimization.py:391: FutureWarning: This implementation of AdamW is deprecated and will be removed in a future version. Use the PyTorch implementation torch.optim.AdamW instead, or set `no_deprecation_warning=True` to disable this warning\n",
            "  warnings.warn(\n"
          ]
        },
        {
          "output_type": "display_data",
          "data": {
            "text/plain": [
              "<IPython.core.display.HTML object>"
            ],
            "text/html": [
              "\n",
              "    <div>\n",
              "      \n",
              "      <progress value='34187' max='37500' style='width:300px; height:20px; vertical-align: middle;'></progress>\n",
              "      [34187/37500 3:31:35 < 20:30, 2.69 it/s, Epoch 2.73/3]\n",
              "    </div>\n",
              "    <table border=\"1\" class=\"dataframe\">\n",
              "  <thead>\n",
              " <tr style=\"text-align: left;\">\n",
              "      <th>Epoch</th>\n",
              "      <th>Training Loss</th>\n",
              "      <th>Validation Loss</th>\n",
              "      <th>Rating Accuracy</th>\n",
              "      <th>Sentiment Accuracy</th>\n",
              "    </tr>\n",
              "  </thead>\n",
              "  <tbody>\n",
              "    <tr>\n",
              "      <td>1</td>\n",
              "      <td>1.358300</td>\n",
              "      <td>1.331332</td>\n",
              "      <td>{'accuracy': 0.49692}</td>\n",
              "      <td>{'accuracy': 0.9428}</td>\n",
              "    </tr>\n",
              "    <tr>\n",
              "      <td>2</td>\n",
              "      <td>1.206500</td>\n",
              "      <td>1.382250</td>\n",
              "      <td>{'accuracy': 0.51684}</td>\n",
              "      <td>{'accuracy': 0.94672}</td>\n",
              "    </tr>\n",
              "  </tbody>\n",
              "</table><p>"
            ]
          },
          "metadata": {}
        },
        {
          "output_type": "stream",
          "name": "stderr",
          "text": [
            "Trainer is attempting to log a value of \"{'accuracy': 0.49692}\" of type <class 'dict'> for key \"eval/Rating_Accuracy\" as a scalar. This invocation of Tensorboard's writer.add_scalar() is incorrect so we dropped this attribute.\n",
            "Trainer is attempting to log a value of \"{'accuracy': 0.9428}\" of type <class 'dict'> for key \"eval/Sentiment_Accuracy\" as a scalar. This invocation of Tensorboard's writer.add_scalar() is incorrect so we dropped this attribute.\n",
            "Trainer is attempting to log a value of \"{'accuracy': 0.51684}\" of type <class 'dict'> for key \"eval/Rating_Accuracy\" as a scalar. This invocation of Tensorboard's writer.add_scalar() is incorrect so we dropped this attribute.\n",
            "Trainer is attempting to log a value of \"{'accuracy': 0.94672}\" of type <class 'dict'> for key \"eval/Sentiment_Accuracy\" as a scalar. This invocation of Tensorboard's writer.add_scalar() is incorrect so we dropped this attribute.\n"
          ]
        }
      ]
    }
  ],
  "metadata": {
    "colab": {
      "provenance": [],
      "collapsed_sections": [
        "JM4Sa8g4Kv-m"
      ],
      "gpuType": "T4",
      "toc_visible": true,
      "authorship_tag": "ABX9TyOwcSbjWAICrFgtSuSRIXkb",
      "include_colab_link": true
    },
    "kernelspec": {
      "display_name": "Python 3",
      "name": "python3"
    },
    "language_info": {
      "name": "python"
    },
    "widgets": {
      "application/vnd.jupyter.widget-state+json": {}
    }
  },
  "nbformat": 4,
  "nbformat_minor": 0
}